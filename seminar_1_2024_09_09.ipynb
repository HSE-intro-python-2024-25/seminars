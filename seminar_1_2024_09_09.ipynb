{
  "nbformat": 4,
  "nbformat_minor": 0,
  "metadata": {
    "colab": {
      "provenance": [],
      "collapsed_sections": [
        "hNNd0xRkKwjV"
      ]
    },
    "kernelspec": {
      "name": "python3",
      "display_name": "Python 3"
    },
    "language_info": {
      "name": "python"
    }
  },
  "cells": [
    {
      "cell_type": "markdown",
      "source": [
        "# План\n",
        "  * Типы данных (числа, строки)\n",
        "  * Ввод/вывод, красиво печатаем\n",
        "  * Типы данных (список, множество, словарь)\n",
        "  * Некоторые типы операторов\n",
        "  * Лямбда-функция\n",
        "  * if/else\n",
        "  * Цикл for\n",
        "\n"
      ],
      "metadata": {
        "id": "tRDywTJ5dD_X"
      }
    },
    {
      "cell_type": "code",
      "source": [
        "!pip install google-currency"
      ],
      "metadata": {
        "id": "GnLtBNK9SKHF"
      },
      "execution_count": null,
      "outputs": []
    },
    {
      "cell_type": "code",
      "source": [
        "import time\n",
        "from string import printable, ascii_uppercase\n",
        "from keyword import iskeyword\n",
        "from math import pi\n",
        "\n",
        "from google_currency import convert"
      ],
      "metadata": {
        "id": "ju0AtPgKrSUI"
      },
      "execution_count": null,
      "outputs": []
    },
    {
      "cell_type": "markdown",
      "source": [
        "# Типы данных (числа, строки)"
      ],
      "metadata": {
        "id": "KJQNuYOEK-Oy"
      }
    },
    {
      "cell_type": "markdown",
      "source": [
        "## Целые числа"
      ],
      "metadata": {
        "id": "KGpRZFkjahro"
      }
    },
    {
      "cell_type": "markdown",
      "source": [
        "Знакомство с типа данных мы начнем с целых чисел. Если вы вдруг знакомы с другими языками программирования, то стоит отметить, что типизация в Python - динамическая. Это значит, что вам не нужно говорить какой тип данных вы хотите положить в переменную - Python сам все определит. Проверить тип данных можно с помощью функции `type()`, передав ей в качестве аргумента сами данные или переменную.\n",
        "\n",
        "**ЦЕЛЫЕ ЧИСЛА (INT, INTEGER):** 1, 2, 592, 1030523235 - любое целое число без дробной части.\n",
        "\n",
        "Операции с числами: сложение (+), вычитание (-), умножение (*), деление (/),возведение в степень (**), целочисленное деление (//), остаток от деления (%)."
      ],
      "metadata": {
        "id": "0zIwb5Rus3ft"
      }
    },
    {
      "cell_type": "code",
      "source": [
        "y = 22345678946375892347\n",
        "type(y)\n",
        "#print(type(y))"
      ],
      "metadata": {
        "id": "QR7v8IK1ahG6"
      },
      "execution_count": null,
      "outputs": []
    },
    {
      "cell_type": "code",
      "source": [
        "# Задание: дано трехзначное число. Найдите сумму его цифр.\n",
        "x = 368\n",
        "\n",
        "#TODO\n"
      ],
      "metadata": {
        "id": "PYv8bDsXuZ8V"
      },
      "execution_count": null,
      "outputs": []
    },
    {
      "cell_type": "markdown",
      "source": [
        "## Действительные числа"
      ],
      "metadata": {
        "id": "4HYeAIJ2wAw0"
      }
    },
    {
      "cell_type": "markdown",
      "source": [
        "Действительные (вещественные) числа представляются в виде чисел с десятичной точкой. В питоне это тип `float()`."
      ],
      "metadata": {
        "id": "iii25WRgwEP-"
      }
    },
    {
      "cell_type": "code",
      "source": [
        "# Округление\n",
        "print(round(1.556790))\n",
        "print(round(1.456790, 2))\n",
        "\n",
        "# Преобразование в int производится с округлением в сторону нуля\n",
        "print(int(1.556790))"
      ],
      "metadata": {
        "id": "Ymsl9mUXwDlR"
      },
      "execution_count": null,
      "outputs": []
    },
    {
      "cell_type": "markdown",
      "source": [
        "## Логические или булевы переменные (boolean)"
      ],
      "metadata": {
        "id": "YZLKZycizR_I"
      }
    },
    {
      "cell_type": "markdown",
      "source": [
        "Логические переменные могут принимать всего два значения - истина (True) или ложь (False). В Python тип обознчается bool."
      ],
      "metadata": {
        "id": "wcRtvOvL0ii3"
      }
    },
    {
      "cell_type": "code",
      "source": [
        "print(type('True')) # тип str - строковая переменная\n",
        "print(true) # ошибка, Python думает, что это назbвание переменной"
      ],
      "metadata": {
        "id": "O4ZPzarL0h3G"
      },
      "execution_count": null,
      "outputs": []
    },
    {
      "cell_type": "code",
      "source": [
        "# Преобразования\n",
        "print(bool(0))\n",
        "print(bool(23))\n",
        "print(bool(-10), '\\n')\n",
        "\n",
        "print(bool(''))\n",
        "print(bool('Hello'))\n",
        "print(bool(' ')) # даже строка из одного пробела - это True\n",
        "print(bool('False'), '\\n') # и даже строка 'False' - это True\n",
        "\n",
        "print(int(True))\n",
        "print(int(False))"
      ],
      "metadata": {
        "id": "X6UkSso70tY7"
      },
      "execution_count": null,
      "outputs": []
    },
    {
      "cell_type": "markdown",
      "source": [
        "## Строки"
      ],
      "metadata": {
        "id": "bmiWFKta0NjX"
      }
    },
    {
      "cell_type": "markdown",
      "source": [
        "**ТЕКСТ (СТРОКИ) (STR, STRING):** любой текст внутри одинарных или двойных кавычек. Важно: целое число в кавычках - это тоже строка, не целое число."
      ],
      "metadata": {
        "id": "UQrTvBgJ1N3-"
      }
    },
    {
      "cell_type": "code",
      "source": [
        "print(2 + 3)\n",
        "print('2' + '3') # контакенация\n",
        "print('2' * 3) # умножение строки на число\n",
        "print('2' + 3)"
      ],
      "metadata": {
        "id": "RdoI3OQGeunX"
      },
      "execution_count": null,
      "outputs": []
    },
    {
      "cell_type": "code",
      "source": [
        "print(2 + int('2512'))\n",
        "print('abs' + str(123) + str(True))"
      ],
      "metadata": {
        "id": "sC5gz57i1nvC"
      },
      "execution_count": null,
      "outputs": []
    },
    {
      "cell_type": "markdown",
      "source": [
        "# I/O, красивая печать"
      ],
      "metadata": {
        "id": "hNNd0xRkKwjV"
      }
    },
    {
      "cell_type": "markdown",
      "source": [
        "Ввод с помощью встроенной функции `input()`. При этом введенная строка может содержать несколько смысловых кусков, которые можно разбить методом `split()` для строк.\n",
        "\n",
        "Список встроенных функций: https://docs.python.org/3/library/functions.html"
      ],
      "metadata": {
        "id": "9XsFu7g0f5N0"
      }
    },
    {
      "cell_type": "code",
      "source": [
        "input('Введите три числа через зяпятую: ').split(',')"
      ],
      "metadata": {
        "id": "XCWQfx8Fhahn"
      },
      "execution_count": null,
      "outputs": []
    },
    {
      "cell_type": "markdown",
      "source": [
        "Вывод осуществляется с помощью функции `print(*objects, sep=' ', end='\\n', file=None, flush=False)`:"
      ],
      "metadata": {
        "id": "GdohJD1AhoxF"
      }
    },
    {
      "cell_type": "code",
      "source": [
        "a, b, c = 1, 2, 3\n",
        "print(a, b, c, sep = ',')"
      ],
      "metadata": {
        "id": "m6tQry148PVl"
      },
      "execution_count": null,
      "outputs": []
    },
    {
      "cell_type": "markdown",
      "source": [
        "Также можно просто писать в файл:"
      ],
      "metadata": {
        "id": "aOi5SZ6B8XSf"
      }
    },
    {
      "cell_type": "code",
      "source": [
        "numbers = ['1', '2', '3']\n",
        "lines = '\\n'.join(numbers)\n",
        "\n",
        "with open('output.txt', mode='w', encoding='utf-8') as f: # альтернативно можно использовать синтаксис с file.open() / file.close()\n",
        "    f.write(lines)"
      ],
      "metadata": {
        "id": "DCGSn5_Bh5zH"
      },
      "execution_count": null,
      "outputs": []
    },
    {
      "cell_type": "markdown",
      "source": [
        "Форматировать строки можно разными способами"
      ],
      "metadata": {
        "id": "UNHm3NQ2h7NG"
      }
    },
    {
      "cell_type": "code",
      "source": [
        "name = 'Яна'\n",
        "age = 11\n",
        "height = 2.01\n",
        "\n",
        "# 1:\n",
        "print(\"Ваше имя: %s. Ваш возраст: %s.\" % (name, age))\n",
        "print(\"Ваш рост: %.1f м.\" % height) # f - от float\n",
        "\n",
        "# 2:\n",
        "print(f\"\\nВаше имя: {name}. Ваш возраст: {age}. Рост: {height:.2f}\")\n",
        "\n",
        "# 3\n",
        "print(\"\\nВаше имя: {}. Ваш возраст: {}. Рост: {:.2f}\".format(name, age, height))"
      ],
      "metadata": {
        "id": "fCkqYD4Ah7kh"
      },
      "execution_count": null,
      "outputs": []
    },
    {
      "cell_type": "code",
      "source": [
        "# Задание: пользователь вводит свое имя и города нахождения, выведите приветствие \"Привет, [имя пользователя] из [город нахождения]!\".\n",
        "\n",
        "# TODO\n"
      ],
      "metadata": {
        "id": "kHTHtrz3iFUa"
      },
      "execution_count": null,
      "outputs": []
    },
    {
      "cell_type": "code",
      "source": [
        "# Задание: запросите у пользователя точность после запятой, с которой он хочет увидеть число Пи, и выведите его.\n",
        "user_input = input('Введите точность: ')\n",
        "\n",
        "# TODO\n"
      ],
      "metadata": {
        "id": "Dp198IgflEg6"
      },
      "execution_count": null,
      "outputs": []
    },
    {
      "cell_type": "markdown",
      "source": [
        "# Типы данных (список, кортеж, множество, словарь)"
      ],
      "metadata": {
        "id": "HC0nev7x3MSy"
      }
    },
    {
      "cell_type": "markdown",
      "source": [
        "## Список"
      ],
      "metadata": {
        "id": "FrHPV_cUantV"
      }
    },
    {
      "cell_type": "markdown",
      "source": [
        "Методы списков: https://docs.python.org/3/tutorial/datastructures.html"
      ],
      "metadata": {
        "id": "2BmTQgy_gWPz"
      }
    },
    {
      "cell_type": "code",
      "source": [
        "# В списки могут входить данные разных типов\n",
        "student1 = ['Ivan Ivanov', 1987, 7.5, True]\n",
        "student2 = ['Maria Smirnova', 1991, 7.9, False]\n",
        "# Еще списки можно вкладывать друг в друга\n",
        "students = [student1, student2]\n",
        "print(students)\n",
        "# Элементы списков нумеруются, начиная с 0. Мы можем получить доступ к элементу списка по его индексу.\n",
        "print(students[0])\n",
        "print(students[0][1])\n",
        "# Или отрицательному индексу\n",
        "print(students[0][-1])"
      ],
      "metadata": {
        "id": "pARQkIrgaq_D"
      },
      "execution_count": null,
      "outputs": []
    },
    {
      "cell_type": "code",
      "source": [
        "# В отличие от строк, списки являются изменяемым типом данных\n",
        "student1[1] = 1981\n",
        "print(student1)\n",
        "student1[0][-1] = 'w'"
      ],
      "metadata": {
        "id": "aXxoRpizZE0E"
      },
      "execution_count": null,
      "outputs": []
    },
    {
      "cell_type": "code",
      "source": [
        "# Функция len()\n",
        "print(len(students))\n",
        "print(len(students[1]))\n",
        "print(len(students[1][0]))\n",
        "print(len(students[1][0][:5]))\n",
        "print(len([]))"
      ],
      "metadata": {
        "id": "rhDvMbpoblQq"
      },
      "execution_count": null,
      "outputs": []
    },
    {
      "cell_type": "code",
      "source": [
        "# Удаление элементов из списка\n",
        "# Удалить элемент из списка можно с помощью метода .remove() (без возвращения удаленного элемента)\n",
        "# или .pop() (с возвращением удаленного элемента).\n",
        "student1.remove(True)\n",
        "print(student1)\n",
        "x = student2.pop(-1)\n",
        "print(student2)\n",
        "print(x)"
      ],
      "metadata": {
        "id": "qbBr-l8UcjDU"
      },
      "execution_count": null,
      "outputs": []
    },
    {
      "cell_type": "code",
      "source": [
        "# Добавление элементов в список\n",
        "student1.append(True)\n",
        "student1"
      ],
      "metadata": {
        "id": "0duN_GDecOpg"
      },
      "execution_count": null,
      "outputs": []
    },
    {
      "cell_type": "markdown",
      "source": [
        "## Множество"
      ],
      "metadata": {
        "id": "iBg36i7-avJ7"
      }
    },
    {
      "cell_type": "markdown",
      "source": [
        "Мы уже знаем списки - упорядоченные структуры, которые могут хранить в себе объекты любых типов, к которым мы можем обратиться по индексу. Теперь поговорим о стуктурах неупорядоченных - множествах и словарях.\n",
        "\n",
        "Множества хранят некоторое количество объектов, но, в отличие от списка, один объект может храниться в множестве не более одного раза. Кроме того, порядок элементов множества произволен, им нельзя управлять.\n",
        "\n",
        "Тип называется set, это же является конструктором типа, т.е. в функцию set можно передать произвольную последовательность, и из этой последовательности будет построено множество:"
      ],
      "metadata": {
        "id": "4e_yH05wk1Kf"
      }
    },
    {
      "cell_type": "code",
      "source": [
        "x = [4, 5, 6]\n",
        "print(set(x)) # передаем список\n",
        "x = {4, 5, 6}\n",
        "print(type(x))"
      ],
      "metadata": {
        "id": "-4Iy7jD1k6EK"
      },
      "execution_count": null,
      "outputs": []
    },
    {
      "cell_type": "code",
      "source": [
        "# Операции с множествами\n",
        "a = {1, 2, 3, 4}\n",
        "b = {3, 4, 5, 6}\n",
        "c = {2, 3}\n",
        "\n",
        " # проверка на подмножество (с подномжество a)\n",
        "print(c <= b) # не подмножество, т.к. в b нет 2\n",
        "print(a >= c)\n",
        "print(a | b) # объединение a.union(b) aka a+b\n",
        "print(a & b) # пересечение a.intersection(b)\n",
        "print(a - b) # разность множеств (все что в a, кроме b) a.difference(b)\n",
        "print(a ^ b) # симметрическая разность множеств (объединение без пересечения)\n",
        "\n",
        "c = a.copy() # копирование множества, или set(a)\n",
        "print(c)"
      ],
      "metadata": {
        "id": "4pcSGbzflSoK"
      },
      "execution_count": null,
      "outputs": []
    },
    {
      "cell_type": "code",
      "source": [
        "# Задание: напишите программу, которая удаляет дубликаты из списка\n",
        "my_list = [1, 2, 'two', 3, 4, 5, 'one', 'two', 3, 6, 5]\n",
        "\n",
        "#TODO\n"
      ],
      "metadata": {
        "id": "fHgr4ajzaxeo"
      },
      "execution_count": null,
      "outputs": []
    },
    {
      "cell_type": "code",
      "source": [
        "# Задание: у Маши и Пети есть пищевые аллергии и есть списки продуктов, которые они могут есть.\n",
        "# Найдите все аллергены для Маши и Пети, а также список продуктов, которые они оба могут есть.\n",
        "pete_allergies = ['соя', 'глютен', 'лактоза', 'орехи']\n",
        "mary_allergies = ['глютен', 'цитрусовые', 'какао']\n",
        "\n",
        "pete_ok = ['рис', 'картошка', 'курица', 'гречка', 'цитрусовые', 'чай']\n",
        "mary_ok = ['гречка', 'кофе', 'молоко', 'орехи']\n",
        "\n",
        "#TODO\n"
      ],
      "metadata": {
        "id": "aN3-v7MelZdY"
      },
      "execution_count": null,
      "outputs": []
    },
    {
      "cell_type": "markdown",
      "source": [
        "## Словарь"
      ],
      "metadata": {
        "id": "9sThHjKKax-P"
      }
    },
    {
      "cell_type": "markdown",
      "source": [
        "Словарь состоит из набора ключей и соответствующих им значений. Значения могут быть любыми объектами (также как и в списке, хранить можно произвольные объекты). А ключи могут быть почти любыми объектами, но только неизменяемыми. В частности числами, строками, кортежами. Список или множество не могут быть ключом.\n",
        "\n",
        "Одному ключу соответствует ровно одно значение. Но одно и то же значение, в принципе, можно сопоставить разным ключам."
      ],
      "metadata": {
        "id": "vUllxGbFnHDD"
      }
    },
    {
      "cell_type": "code",
      "source": [
        "a = dict()\n",
        "type(a)"
      ],
      "metadata": {
        "id": "LCZFOzGHa0Ki"
      },
      "execution_count": null,
      "outputs": []
    },
    {
      "cell_type": "code",
      "source": [
        "a['ch1'] = 'abc'\n",
        "a[2] = 3\n",
        "a[(1,2)] = [1, 2, 3]\n",
        "print(a)\n",
        "print(a['ch1'])"
      ],
      "metadata": {
        "id": "SwgzM2mwnLtX"
      },
      "execution_count": null,
      "outputs": []
    },
    {
      "cell_type": "code",
      "source": [
        "print(a.keys())\n",
        "print(a.values())\n",
        "print(a.items())"
      ],
      "metadata": {
        "id": "QjV03CcYouyr"
      },
      "execution_count": null,
      "outputs": []
    },
    {
      "cell_type": "code",
      "source": [
        "a.pop('ch1', None)\n",
        "print(a)"
      ],
      "metadata": {
        "id": "YgHg-f6CpOAJ"
      },
      "execution_count": null,
      "outputs": []
    },
    {
      "cell_type": "markdown",
      "source": [
        "# Лямбда-функция"
      ],
      "metadata": {
        "id": "JOkn1HEIL38R"
      }
    },
    {
      "cell_type": "markdown",
      "source": [
        "- Также называется \"анонимной функцией\", потому что определяется без имени (в математике была введена в 1930-х).\n",
        "- Лямбда-функция может принимать много аргументов, но возвращает всегда только одно выражение (результат).\n",
        "- Обычно используется тогда, когда функция нужна на короткий промежуток времени, чтобы не писать полное определение.\n",
        "\n",
        "Синтаксис:\n",
        "\n",
        "lambda аргументы(ы): выражение\n"
      ],
      "metadata": {
        "id": "sOT-lxjmMHFS"
      }
    },
    {
      "cell_type": "code",
      "source": [
        "# Задание: напишите две функции (обычную через def и лямбда-функцию) для сложения трех чисел и проверьте время их исполнения.\n",
        "\n",
        "def add_three_digits(a: int, b: int, c: int) -> int:\n",
        "  # TODO\n",
        "  result = a + b + c\n",
        "  return result\n",
        "\n",
        "\n",
        "# Переменная со значением времени на момент выполнения строки\n",
        "start_time = time.time()\n",
        "#TODO\n",
        "print(\"def result: \", add_three_digits(1, 2, 3))\n",
        "print(\"--- %s seconds ---\" % (time.time() - start_time))\n",
        "\n",
        "start_time = time.time()\n",
        "add = lambda a, b, c: a + b + c\n",
        "print(\"lambda result: \", add(1, 2, 3))\n",
        "print(\"--- %s seconds ---\" % (time.time() - start_time))"
      ],
      "metadata": {
        "id": "RqcxPC30L6zk"
      },
      "execution_count": null,
      "outputs": []
    },
    {
      "cell_type": "code",
      "source": [
        "# Использование лямбда-функции внутри другой функции\n",
        "def add(n):\n",
        "    return lambda a : a + n\n",
        "\n",
        "result = add(100)\n",
        "print(result)\n",
        "print(\"-------------------\")\n",
        "print(result(200))\n",
        "print(\"-------------------\")\n",
        "print(result(300))\n",
        "print(\"-------------------\")\n",
        "print(result(400))\n",
        "print(\"-------------------\")\n",
        "print(result(500))"
      ],
      "metadata": {
        "id": "SGrsArWruEIF"
      },
      "execution_count": null,
      "outputs": []
    },
    {
      "cell_type": "code",
      "source": [
        "# Задание: отфильтруйте нечетные числа в заданном списке.\n",
        "my_list = [1, 2, 3, 4, 5, 6]\n",
        "odd_numbers = #TODO\n",
        "print(odd_numbers)"
      ],
      "metadata": {
        "id": "fj-cRNONwlbq"
      },
      "execution_count": null,
      "outputs": []
    },
    {
      "cell_type": "code",
      "source": [
        "# Задание: отсортируйте напитки по возрастанию цены.\n",
        "drinks = [(\"эспрессо\", 100), (\"американо\", 120), (\"латте\", 150), (\"черный чай\", 50)]\n",
        "sorted_drinks = #TODO\n",
        "print(sorted_drinks)"
      ],
      "metadata": {
        "id": "GY-gLbhbxB5T"
      },
      "execution_count": null,
      "outputs": []
    },
    {
      "cell_type": "code",
      "source": [
        "# Задание: тот же список отсортируйте по первой букве названия напитка.\n",
        "sorted_drinks = #TODO\n",
        "print(sorted_drinks)"
      ],
      "metadata": {
        "id": "3vAyyo7pynUW"
      },
      "execution_count": null,
      "outputs": []
    },
    {
      "cell_type": "markdown",
      "source": [
        "# Некоторые типы операторов\n",
        "\n"
      ],
      "metadata": {
        "id": "7Hb8I8SULDao"
      }
    },
    {
      "cell_type": "markdown",
      "source": [
        "## Операторы сравнения"
      ],
      "metadata": {
        "id": "62w8WZ4-hyV-"
      }
    },
    {
      "cell_type": "code",
      "source": [
        "# Оператор присваивания\n",
        "a = 10\n",
        "b = 5\n",
        "# Строго больше\n",
        "print('a > b =', a > b)\n",
        "# Строго меньше\n",
        "print('a < b =', a < b)\n",
        "# Равенство\n",
        "print('a == b =', a == b)\n",
        "# Не равенство\n",
        "print('a != b =', a != b)\n",
        "# Больше или равно\n",
        "print('a >= b =', a >= b)\n",
        "# Меньше или равно\n",
        "print('a <= b =', a <= b)"
      ],
      "metadata": {
        "colab": {
          "base_uri": "https://localhost:8080/"
        },
        "id": "g2zN8P5fFfKP",
        "outputId": "ed7d7b2f-6084-4b32-c995-96767638e342"
      },
      "execution_count": null,
      "outputs": [
        {
          "output_type": "stream",
          "name": "stdout",
          "text": [
            "a > b = True\n",
            "a < b = False\n",
            "a == b = False\n",
            "a != b = True\n",
            "a >= b = True\n",
            "a <= b = False\n"
          ]
        }
      ]
    },
    {
      "cell_type": "markdown",
      "source": [
        "## Логические операторы"
      ],
      "metadata": {
        "id": "OZF7HpZ_i8px"
      }
    },
    {
      "cell_type": "markdown",
      "source": [
        "Это союзы, которые позволяют объединять по несколько условий. В питоне всего три таких оператора:\n",
        "- and (и) -- если условия с двух сторон оператора and истинны, тогда все выражение целиком считается истинным.\n",
        "- or (или) -- выражение ложно, если оба операнда с двух сторон ложные. Если хотя бы одно из них истинное, то и все выражение истинно.\n",
        "- not (не) -- инвертирует булевые значения выражения. True превращается в False и наоборот. В примере внизу булево значение 0 — False. Поэтому оно превращается в True.\n",
        "\n",
        "![Таблица истинности](https://comphome.ru/wp-content/uploads/author/post/2021/boolean0.jpg)"
      ],
      "metadata": {
        "id": "xBKhvnaIjDQA"
      }
    },
    {
      "cell_type": "code",
      "source": [
        "a = 7 > 7 and 2 > -1\n",
        "print(a)\n",
        "a = 7 > 7 or 2 > -1\n",
        "print(a)\n",
        "a = not(0)\n",
        "print(a)"
      ],
      "metadata": {
        "id": "33DltFnijBcC"
      },
      "execution_count": null,
      "outputs": []
    },
    {
      "cell_type": "code",
      "source": [
        "# Задание: пользователь вводит два числа. Сделайте проверку первого числа на > 0 и проверку второго на неравенство 0.\n",
        "# Если проверка пройдена, выведите результат деления первого числа на второе.\n",
        "user_input = input(\"Введите два числа: \").split()\n",
        "a = float(user_input[0])\n",
        "b = float(user_input[1])\n",
        "\n",
        "#TODO\n"
      ],
      "metadata": {
        "id": "MSWb5Iyrkkzp"
      },
      "execution_count": null,
      "outputs": []
    },
    {
      "cell_type": "markdown",
      "source": [
        "## Операторы принадлежности"
      ],
      "metadata": {
        "id": "zgubmiZZnMTk"
      }
    },
    {
      "cell_type": "markdown",
      "source": [
        "Эти операторы проверяют, является ли значение частью последовательности. Последовательность может быть списком, строкой или кортежем. Есть всего два таких оператора: in и not in."
      ],
      "metadata": {
        "id": "YcWgrjY6nPb3"
      }
    },
    {
      "cell_type": "code",
      "source": [
        "# Задание: есть список животных. Возьмите у пользователя название животного и сделайте проверку на присутствие в списке.\n",
        "animals = ['кот', 'попугай', 'собака', 'лошадь', 'сурикат', 'кабан', 'корова', 'волк']\n",
        "user_input = input().lower()\n",
        "#TODO\n"
      ],
      "metadata": {
        "id": "5O9GJ-FZn-EQ"
      },
      "execution_count": null,
      "outputs": []
    },
    {
      "cell_type": "markdown",
      "source": [
        "# if/else"
      ],
      "metadata": {
        "id": "1GZiiGUiLIg8"
      }
    },
    {
      "cell_type": "markdown",
      "source": [
        "Условия это, наверное, душа программирования. Мы очень часто хотим, чтобы наша программа работала по разному в зависимости от происходящего. Алгоритмы, использующие условия, называют разветвляющимися, и для их понимания очень удобно рисовать блок-схемы (нет, они не остались в школе, если в коде много условий и разных действий по-прежнему очень помогает нарисовать на бумаге дерево).\n",
        "\n",
        "Условия (if) позволяют выполнять код только в случае истинности какого-то логического выражения.\n",
        "\n",
        "Проще говоря, \"если верно, что..., то сделать ...\".\n",
        "\n",
        "Самый простой пример использования if - это вывод какой-то фразы по условию."
      ],
      "metadata": {
        "id": "rgRo8aWmpqKF"
      }
    },
    {
      "cell_type": "code",
      "source": [
        "x = 1\n",
        "if x == 1:  # Выражение равно True, это условие истинное\n",
        "    print('That is true!')  # Фраза выводится\n",
        "else:\n",
        "    print('That is not true!')"
      ],
      "metadata": {
        "id": "Fk3UA1_BprpD"
      },
      "execution_count": null,
      "outputs": []
    },
    {
      "cell_type": "markdown",
      "source": [
        " C помощью конструкции else if (или elif) можно сразу же написать еще одну проверку в случае ложности условия:"
      ],
      "metadata": {
        "id": "Q9Zwh2nwqHDh"
      }
    },
    {
      "cell_type": "code",
      "source": [
        "a = int(input('Введите первое число: '))\n",
        "b = int(input('Введите второе число: '))\n",
        "\n",
        "if a < b:\n",
        "    print(a)\n",
        "elif a > b:\n",
        "    print(b)\n",
        "else:\n",
        "    print('Равные числа:', a)"
      ],
      "metadata": {
        "id": "bj6_KE5qqFbv"
      },
      "execution_count": null,
      "outputs": []
    },
    {
      "cell_type": "code",
      "source": [
        "# Задание: рассчитайте скидку покупателя в рублях. Если сумма покупки больше или равна 5000 руб., скидка 25%.\n",
        "# Дороже 1000 руб., но дешевле 5000 руб., скидка 20%.\n",
        "# Если сумма меньше или равна 1000 руб., то скидка 15%.\n",
        "amount = float(input('Введите сумму:'))\n",
        "#TODO\n"
      ],
      "metadata": {
        "id": "7Pwgrw76qxeH"
      },
      "execution_count": null,
      "outputs": []
    },
    {
      "cell_type": "code",
      "source": [
        "# Задание: для имени переменной, введенной пользователем, напишите проверку корректности имени.\n",
        "# Правила имен переменных:\n",
        "# - могут содержать только буквенные (латинские) и целочисленные символы и нижнее подчеркивание,\n",
        "# - должны начинаться с буквы или нижнего подчеркивания,\n",
        "# - могут содержать как строчные, так и заглавные буквы,\n",
        "# - не могут начинаться с цифры,\n",
        "# - не совпадают со специальными ключевыми словами.\n",
        "\n",
        "# Методы для строк (isidentifier() в этом задании использовать нельзя!): https://www.w3schools.com/python/python_ref_string.asp\n",
        "\n",
        "\n",
        "def is_latin(text):\n",
        "    return not bool(set(text) - set(printable))\n",
        "\n",
        "\n",
        "var_name = input(\"Введите имя переменной: \")\n",
        "correct = True\n",
        "\n",
        "#TODO\n"
      ],
      "metadata": {
        "id": "g_8zcIWOLJTW"
      },
      "execution_count": null,
      "outputs": []
    },
    {
      "cell_type": "markdown",
      "source": [
        "# Цикл for"
      ],
      "metadata": {
        "id": "M7SxfeBALJv1"
      }
    },
    {
      "cell_type": "code",
      "source": [
        "i = 1\n",
        "for color in 'red', 'orange', 'yellow', 'green', 'cyan', 'blue', 'violet':\n",
        "    print('#', i, ' color of rainbow is ', color, sep = '')\n",
        "    i += 1"
      ],
      "metadata": {
        "colab": {
          "base_uri": "https://localhost:8080/"
        },
        "id": "PXjK6vCEkQnP",
        "outputId": "92f6fceb-297c-4f1e-e117-1db76fe4e838"
      },
      "execution_count": null,
      "outputs": [
        {
          "output_type": "stream",
          "name": "stdout",
          "text": [
            "#1 color of rainbow is red\n",
            "#2 color of rainbow is orange\n",
            "#3 color of rainbow is yellow\n",
            "#4 color of rainbow is green\n",
            "#5 color of rainbow is cyan\n",
            "#6 color of rainbow is blue\n",
            "#7 color of rainbow is violet\n"
          ]
        }
      ]
    },
    {
      "cell_type": "code",
      "source": [
        "# Задание: удалите стор-слова из текста\n",
        "stop_words = [\"i\", \"me\", \"my\", \"myself\", \"we\", \"our\", \"ours\", \"ourselves\", \"you\", \"your\", \"yours\", \"yourself\", \"yourselves\", \"he\", \"him\", \"his\", \"himself\", \"she\", \"her\", \"hers\", \"herself\", \"it\", \"its\", \"itself\", \"they\", \"them\", \"their\", \"theirs\", \"themselves\", \"what\", \"which\", \"who\", \"whom\", \"this\", \"that\", \"these\", \"those\", \"am\", \"is\", \"are\", \"was\", \"were\", \"be\", \"been\", \"being\", \"have\", \"has\", \"had\", \"having\", \"do\", \"does\", \"did\", \"doing\", \"a\", \"an\", \"the\", \"and\", \"but\", \"if\", \"or\", \"because\", \"as\", \"until\", \"while\", \"of\", \"at\", \"by\", \"for\", \"with\", \"about\", \"against\", \"between\", \"into\", \"through\", \"during\", \"before\", \"after\", \"above\", \"below\", \"to\", \"from\", \"up\", \"down\", \"in\", \"out\", \"on\", \"off\", \"over\", \"under\", \"again\", \"further\", \"then\", \"once\", \"here\", \"there\", \"when\", \"where\", \"why\", \"how\", \"all\", \"any\", \"both\", \"each\", \"few\", \"more\", \"most\", \"other\", \"some\", \"such\", \"no\", \"nor\", \"not\", \"only\", \"own\", \"same\", \"so\", \"than\", \"too\", \"very\", \"s\", \"t\", \"can\", \"will\", \"just\", \"don\", \"should\", \"now\"]\n",
        "text = \"\"\"the outbreak of coronavirus disease 2019 ( COVID - 19 ) has created a global health crisis that has had a deep impact on the way we perceive our world and our everyday lives . Not only the rate of contagion and patterns of transmission threatens our sense of agency , but the safety measures put in place to contain the spread of the virus also require social distancing by refraining from doing what is inherently human , which is to find solace in the company of others . Within this context of physical threat , social and physical distancing , as well as public alarm , what has been ( and can be ) the role of the different mass media channels in our lives on individual , social and societal levels ? Mass media have long been recognized as powerful forces shaping how we experience the world and ourselves . This recognition is accompanied by a growing volume of research , that closely follows the footsteps of technological transformations ( e . g . radio , movies , television , the internet , mobiles ) and the zeitgeist ( e . g . cold war , 9 / 11 , climate change ) in an attempt to map mass media major impacts on how we perceive ourselves , both as individuals and citizens . Are media ( broadcast and digital ) still able to convey a sense of unity reaching large audiences , or are messages lost in the noisy crowd of mass self - communication ?\"\"\"\n",
        "\n",
        "#TODO\n"
      ],
      "metadata": {
        "id": "Oh7MidmXi8vS"
      },
      "execution_count": null,
      "outputs": []
    },
    {
      "cell_type": "code",
      "source": [
        "# Задание: выведите список слов длиннее 3 символов\n",
        "text = \"\"\"Ты богат, я очень беден;\n",
        "Ты прозаик, я поэт;\n",
        "Ты румян, как маков цвет,\n",
        "Я, как смерть, и тощ и бледен.\"\"\"\n",
        "\n",
        "#TODO\n"
      ],
      "metadata": {
        "id": "S0K_b6WO2uy-"
      },
      "execution_count": null,
      "outputs": []
    },
    {
      "cell_type": "markdown",
      "source": [
        "Итерация по словарям\n",
        "  "
      ],
      "metadata": {
        "id": "nckX9ohJ4y_T"
      }
    },
    {
      "cell_type": "code",
      "source": [
        "my_dict = {\"color\": \"blue\", \"fruit\": \"apple\", \"pet\": \"dog\"}\n",
        "\n",
        "# Итерация по ключам с помощью встроенной функции `.__iter__()`.\n",
        "for k in my_dict:\n",
        "    print(k, my_dict[k])\n",
        "\n",
        "# Итерация по парам \"ключ-значение\":\n",
        "#print(my_dict.items())\n",
        "\n",
        "#for item in my_dict.items()\n",
        "#    print(item)\n",
        "\n",
        "# Итерация по ключам\n",
        "#print(my_dict.keys())\n",
        "\n",
        "#for k in my_dict.keys()\n",
        "#    print(k)\n",
        "\n",
        "# Итерация по значениям\n",
        "#print(my_dict.values())\n",
        "\n",
        "#for v in my_dict.values()\n",
        "#    print(v)"
      ],
      "metadata": {
        "id": "VtYes72g4wNb"
      },
      "execution_count": null,
      "outputs": []
    },
    {
      "cell_type": "code",
      "source": [
        "# Задание: выведите имя человека и его город\n",
        "people = {1: {'name': 'John', 'age': '27', 'city': 'Moscow'},\n",
        "          2: {'name': 'Marie', 'age': '22', 'city': 'Beijing'},\n",
        "          3: {'name': 'Kate', 'age': '31', 'city': 'New York'},\n",
        "          4: {'name': 'Dave', 'age': '20', 'city': 'Bratislava'}}\n",
        "\n",
        "# TODO\n"
      ],
      "metadata": {
        "id": "xIEtgrxd6fx4"
      },
      "execution_count": null,
      "outputs": []
    },
    {
      "cell_type": "code",
      "source": [
        "# Задание про конвертацию валют\n",
        "# https://developers.google.com/adsense/management/appendix/currencies\n",
        "user_input = input(\"Введите через пробел исходную валюту, валюту, в которую хотите поменять, и сумму: \").split()\n",
        "#TODO\n"
      ],
      "metadata": {
        "id": "jRg6VLR0SZt4"
      },
      "execution_count": null,
      "outputs": []
    },
    {
      "cell_type": "code",
      "source": [
        "# Задание: пользователь вводит имя переменной в стиле с нижними подчеркиваниями (snake_case), выведите то же имя, но в стиле camelCase.\n",
        "var_name = input(\"Введите имя переменной: \")\n",
        "#TODO\n"
      ],
      "metadata": {
        "id": "xJKS5EK7lXmj"
      },
      "execution_count": null,
      "outputs": []
    },
    {
      "cell_type": "markdown",
      "source": [
        "Очень полезная и часто используемый итератор `range(start, stop, step)`:"
      ],
      "metadata": {
        "id": "MNXtXPvm_Qz0"
      }
    },
    {
      "cell_type": "code",
      "source": [
        "for i in range(1, 11, 2):\n",
        "    print(i, end=' ')"
      ],
      "metadata": {
        "colab": {
          "base_uri": "https://localhost:8080/"
        },
        "id": "j1xfBMWg_ycQ",
        "outputId": "25df4b68-320d-47d5-99fb-001f322c73ce"
      },
      "execution_count": null,
      "outputs": [
        {
          "output_type": "stream",
          "name": "stdout",
          "text": [
            "1 3 5 7 9 "
          ]
        }
      ]
    },
    {
      "cell_type": "code",
      "source": [
        "# range() с отрицательным шагом\n",
        "for i in range(11, 1, -2):\n",
        "    print(i, end=' ')"
      ],
      "metadata": {
        "colab": {
          "base_uri": "https://localhost:8080/"
        },
        "id": "tI3hvfs-cWa5",
        "outputId": "9e80327e-98a8-4e31-dbd4-1f79c37cc211"
      },
      "execution_count": null,
      "outputs": [
        {
          "output_type": "stream",
          "name": "stdout",
          "text": [
            "11 9 7 5 3 "
          ]
        }
      ]
    },
    {
      "cell_type": "code",
      "source": [
        "# Задание: для заданной строки выведите каждую третью букву на одной строке без пробелов.\n",
        "line = 'грбопилинхдгепо'\n",
        "#TODO\n"
      ],
      "metadata": {
        "id": "7v1pkgUOANvR"
      },
      "execution_count": null,
      "outputs": []
    },
    {
      "cell_type": "markdown",
      "source": [
        "Другая полезная встроенная функция -- `enumerate(iterable, start)`:"
      ],
      "metadata": {
        "id": "0bDRM0H8dpgL"
      }
    },
    {
      "cell_type": "code",
      "source": [
        "programmming = [\"Python\", \"Programmming\", \"Is\", \"Fun\"]\n",
        "print(list(enumerate(programmming)))\n",
        "print(list(enumerate(programmming, 5)))\n",
        "print(list(enumerate(programmming, 5))[1])"
      ],
      "metadata": {
        "id": "xjKu1vmNdr77"
      },
      "execution_count": null,
      "outputs": []
    },
    {
      "cell_type": "code",
      "source": [
        "# Задание: пользователь вводит имя переменной в стиле camelCase, выведите то же имя, но в стиле snake_case.\n",
        "var_name = input(\"Введите имя переменной: \")\n",
        "#TODO\n"
      ],
      "metadata": {
        "id": "Cw6KyACVHqUe"
      },
      "execution_count": null,
      "outputs": []
    }
  ]
}