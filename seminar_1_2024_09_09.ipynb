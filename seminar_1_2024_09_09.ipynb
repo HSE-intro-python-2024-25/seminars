{
  "nbformat": 4,
  "nbformat_minor": 0,
  "metadata": {
    "colab": {
      "provenance": [],
      "collapsed_sections": [
        "hNNd0xRkKwjV"
      ]
    },
    "kernelspec": {
      "name": "python3",
      "display_name": "Python 3"
    },
    "language_info": {
      "name": "python"
    }
  },
  "cells": [
    {
      "cell_type": "markdown",
      "source": [
        "# План\n",
        "  * Типы данных (числа, строки)\n",
        "  * Ввод/вывод, красиво печатаем\n",
        "  * Типы данных (список, множество, словарь)\n",
        "  * Некоторые типы операторов\n",
        "  * Лямбда-функция\n",
        "  * if/else\n",
        "  * Цикл for\n",
        "\n"
      ],
      "metadata": {
        "id": "tRDywTJ5dD_X"
      }
    },
    {
      "cell_type": "code",
      "source": [
        "!pip install google-currency"
      ],
      "metadata": {
        "id": "GnLtBNK9SKHF",
        "colab": {
          "base_uri": "https://localhost:8080/"
        },
        "outputId": "15b357d5-0762-40d9-bc7c-88a3053fc7d6"
      },
      "execution_count": null,
      "outputs": [
        {
          "output_type": "stream",
          "name": "stdout",
          "text": [
            "Collecting google-currency\n",
            "  Downloading google_currency-1.0.10.tar.gz (5.8 kB)\n",
            "  Preparing metadata (setup.py) ... \u001b[?25l\u001b[?25hdone\n",
            "Requirement already satisfied: requests in /usr/local/lib/python3.10/dist-packages (from google-currency) (2.32.3)\n",
            "Requirement already satisfied: charset-normalizer<4,>=2 in /usr/local/lib/python3.10/dist-packages (from requests->google-currency) (3.4.0)\n",
            "Requirement already satisfied: idna<4,>=2.5 in /usr/local/lib/python3.10/dist-packages (from requests->google-currency) (3.10)\n",
            "Requirement already satisfied: urllib3<3,>=1.21.1 in /usr/local/lib/python3.10/dist-packages (from requests->google-currency) (2.2.3)\n",
            "Requirement already satisfied: certifi>=2017.4.17 in /usr/local/lib/python3.10/dist-packages (from requests->google-currency) (2024.8.30)\n",
            "Building wheels for collected packages: google-currency\n",
            "  Building wheel for google-currency (setup.py) ... \u001b[?25l\u001b[?25hdone\n",
            "  Created wheel for google-currency: filename=google_currency-1.0.10-py3-none-any.whl size=6066 sha256=112eb2101b1b2deaf555fa3119c8eafad312bfd0187619cb09168ccc1d476ef7\n",
            "  Stored in directory: /root/.cache/pip/wheels/7c/4a/b2/ee2e586902413c2c6336f4f47ad54a516a369ff1aa96c9f2dc\n",
            "Successfully built google-currency\n",
            "Installing collected packages: google-currency\n",
            "Successfully installed google-currency-1.0.10\n"
          ]
        }
      ]
    },
    {
      "cell_type": "code",
      "source": [
        "import time\n",
        "from string import printable, ascii_uppercase\n",
        "from keyword import iskeyword\n",
        "from math import pi\n",
        "\n",
        "from google_currency import convert"
      ],
      "metadata": {
        "id": "ju0AtPgKrSUI"
      },
      "execution_count": null,
      "outputs": []
    },
    {
      "cell_type": "markdown",
      "source": [
        "# Типы данных (числа, строки)"
      ],
      "metadata": {
        "id": "KJQNuYOEK-Oy"
      }
    },
    {
      "cell_type": "markdown",
      "source": [
        "## Целые числа"
      ],
      "metadata": {
        "id": "KGpRZFkjahro"
      }
    },
    {
      "cell_type": "markdown",
      "source": [
        "Знакомство с типа данных мы начнем с целых чисел. Если вы вдруг знакомы с другими языками программирования, то стоит отметить, что типизация в Python - динамическая. Это значит, что вам не нужно говорить какой тип данных вы хотите положить в переменную - Python сам все определит. Проверить тип данных можно с помощью функции `type()`, передав ей в качестве аргумента сами данные или переменную.\n",
        "\n",
        "**ЦЕЛЫЕ ЧИСЛА (INT, INTEGER):** 1, 2, 592, 1030523235 - любое целое число без дробной части.\n",
        "\n",
        "Операции с числами: сложение (+), вычитание (-), умножение (*), деление (/),возведение в степень (**), целочисленное деление (//), остаток от деления (%)."
      ],
      "metadata": {
        "id": "0zIwb5Rus3ft"
      }
    },
    {
      "cell_type": "code",
      "source": [
        "y = 22345678946375892347\n",
        "type(y)\n",
        "#print(type(y))"
      ],
      "metadata": {
        "id": "QR7v8IK1ahG6",
        "colab": {
          "base_uri": "https://localhost:8080/"
        },
        "outputId": "79a23c04-6097-47e5-be70-178837cb3506"
      },
      "execution_count": null,
      "outputs": [
        {
          "output_type": "execute_result",
          "data": {
            "text/plain": [
              "int"
            ]
          },
          "metadata": {},
          "execution_count": 3
        }
      ]
    },
    {
      "cell_type": "code",
      "source": [
        "# Задание: дано трехзначное число. Найдите сумму его цифр.\n",
        "x = 368\n",
        "\n",
        "#TODO\n",
        "sum = 0\n",
        "sum += x % 10 # 8 sum = sum + x % 10\n",
        "x //= 10 # x = x // 10\n",
        "sum += x % 10 # 6\n",
        "x //= 10 # 3\n",
        "sum += x\n",
        "print(x, sum)\n",
        "\n",
        "sum = 0\n",
        "sum = sum + x % 10\n",
        "x = x // 10"
      ],
      "metadata": {
        "id": "PYv8bDsXuZ8V",
        "colab": {
          "base_uri": "https://localhost:8080/"
        },
        "outputId": "53e543ab-4550-4516-bf47-730f27435f51"
      },
      "execution_count": null,
      "outputs": [
        {
          "output_type": "stream",
          "name": "stdout",
          "text": [
            "3 17\n"
          ]
        }
      ]
    },
    {
      "cell_type": "markdown",
      "source": [
        "## Действительные числа"
      ],
      "metadata": {
        "id": "4HYeAIJ2wAw0"
      }
    },
    {
      "cell_type": "markdown",
      "source": [
        "Действительные (вещественные) числа представляются в виде чисел с десятичной точкой. В питоне это тип `float()`."
      ],
      "metadata": {
        "id": "iii25WRgwEP-"
      }
    },
    {
      "cell_type": "code",
      "source": [
        "# Округление\n",
        "print(round(1.556790))\n",
        "print(round(1.456790, 2))\n",
        "\n",
        "# Преобразование в int производится с округлением в сторону нуля\n",
        "print(int(1.556790))"
      ],
      "metadata": {
        "id": "Ymsl9mUXwDlR",
        "colab": {
          "base_uri": "https://localhost:8080/"
        },
        "outputId": "b069cc7b-b671-4ce7-e94c-0663f8a5d089"
      },
      "execution_count": null,
      "outputs": [
        {
          "output_type": "stream",
          "name": "stdout",
          "text": [
            "2\n",
            "1.46\n",
            "1\n"
          ]
        }
      ]
    },
    {
      "cell_type": "markdown",
      "source": [
        "## Логические или булевы переменные (boolean)"
      ],
      "metadata": {
        "id": "YZLKZycizR_I"
      }
    },
    {
      "cell_type": "markdown",
      "source": [
        "Логические переменные могут принимать всего два значения - истина (True) или ложь (False). В Python тип обознчается bool."
      ],
      "metadata": {
        "id": "wcRtvOvL0ii3"
      }
    },
    {
      "cell_type": "code",
      "source": [
        "print(type('True')) # тип str - строковая переменная\n",
        "print(true) # ошибка, Python думает, что это название переменной"
      ],
      "metadata": {
        "id": "O4ZPzarL0h3G",
        "colab": {
          "base_uri": "https://localhost:8080/",
          "height": 176
        },
        "outputId": "efc96203-7b4f-4c31-ffb0-85506feaf742"
      },
      "execution_count": null,
      "outputs": [
        {
          "output_type": "stream",
          "name": "stdout",
          "text": [
            "<class 'str'>\n"
          ]
        },
        {
          "output_type": "error",
          "ename": "NameError",
          "evalue": "name 'true' is not defined",
          "traceback": [
            "\u001b[0;31m---------------------------------------------------------------------------\u001b[0m",
            "\u001b[0;31mNameError\u001b[0m                                 Traceback (most recent call last)",
            "\u001b[0;32m<ipython-input-8-66cdc9109175>\u001b[0m in \u001b[0;36m<cell line: 2>\u001b[0;34m()\u001b[0m\n\u001b[1;32m      1\u001b[0m \u001b[0mprint\u001b[0m\u001b[0;34m(\u001b[0m\u001b[0mtype\u001b[0m\u001b[0;34m(\u001b[0m\u001b[0;34m'True'\u001b[0m\u001b[0;34m)\u001b[0m\u001b[0;34m)\u001b[0m \u001b[0;31m# тип str - строковая переменная\u001b[0m\u001b[0;34m\u001b[0m\u001b[0;34m\u001b[0m\u001b[0m\n\u001b[0;32m----> 2\u001b[0;31m \u001b[0mprint\u001b[0m\u001b[0;34m(\u001b[0m\u001b[0mtrue\u001b[0m\u001b[0;34m)\u001b[0m \u001b[0;31m# ошибка, Python думает, что это назbвание переменной\u001b[0m\u001b[0;34m\u001b[0m\u001b[0;34m\u001b[0m\u001b[0m\n\u001b[0m",
            "\u001b[0;31mNameError\u001b[0m: name 'true' is not defined"
          ]
        }
      ]
    },
    {
      "cell_type": "code",
      "source": [
        "# Преобразования\n",
        "print(bool(0))\n",
        "print(bool(23))\n",
        "print(bool(-10), '\\n')\n",
        "\n",
        "print(bool(''))\n",
        "print(bool('Hello'))\n",
        "print(bool(' ')) # даже строка из одного пробела - это True\n",
        "print(bool('False'), '\\n') # и даже строка 'False' - это True\n",
        "\n",
        "print(int(True))\n",
        "print(int(False))"
      ],
      "metadata": {
        "id": "X6UkSso70tY7",
        "colab": {
          "base_uri": "https://localhost:8080/"
        },
        "outputId": "0b5e748b-06d6-4572-aba0-a3df4b8b8138"
      },
      "execution_count": null,
      "outputs": [
        {
          "output_type": "stream",
          "name": "stdout",
          "text": [
            "False\n",
            "True\n",
            "True \n",
            "\n",
            "False\n",
            "True\n",
            "True\n",
            "True \n",
            "\n",
            "\n",
            "\n",
            "1\n",
            "0\n"
          ]
        }
      ]
    },
    {
      "cell_type": "markdown",
      "source": [
        "## Строки"
      ],
      "metadata": {
        "id": "bmiWFKta0NjX"
      }
    },
    {
      "cell_type": "markdown",
      "source": [
        "**ТЕКСТ (СТРОКИ) (STR, STRING):** любой текст внутри одинарных или двойных кавычек. Важно: целое число в кавычках - это тоже строка, не целое число."
      ],
      "metadata": {
        "id": "UQrTvBgJ1N3-"
      }
    },
    {
      "cell_type": "code",
      "source": [
        "print(2 + 3)\n",
        "print('2' + '3') # конкатенация\n",
        "print('2' * 3) # умножение строки на число\n",
        "print('2' + 3)"
      ],
      "metadata": {
        "id": "RdoI3OQGeunX",
        "colab": {
          "base_uri": "https://localhost:8080/",
          "height": 228
        },
        "outputId": "e1ce2187-3c5d-4ec6-a9fa-d93e97157f97"
      },
      "execution_count": null,
      "outputs": [
        {
          "output_type": "stream",
          "name": "stdout",
          "text": [
            "5\n",
            "23\n",
            "222\n"
          ]
        },
        {
          "output_type": "error",
          "ename": "TypeError",
          "evalue": "can only concatenate str (not \"int\") to str",
          "traceback": [
            "\u001b[0;31m---------------------------------------------------------------------------\u001b[0m",
            "\u001b[0;31mTypeError\u001b[0m                                 Traceback (most recent call last)",
            "\u001b[0;32m<ipython-input-11-e28518be2b6f>\u001b[0m in \u001b[0;36m<cell line: 4>\u001b[0;34m()\u001b[0m\n\u001b[1;32m      2\u001b[0m \u001b[0mprint\u001b[0m\u001b[0;34m(\u001b[0m\u001b[0;34m'2'\u001b[0m \u001b[0;34m+\u001b[0m \u001b[0;34m'3'\u001b[0m\u001b[0;34m)\u001b[0m \u001b[0;31m# контакенация\u001b[0m\u001b[0;34m\u001b[0m\u001b[0;34m\u001b[0m\u001b[0m\n\u001b[1;32m      3\u001b[0m \u001b[0mprint\u001b[0m\u001b[0;34m(\u001b[0m\u001b[0;34m'2'\u001b[0m \u001b[0;34m*\u001b[0m \u001b[0;36m3\u001b[0m\u001b[0;34m)\u001b[0m \u001b[0;31m# умножение строки на число\u001b[0m\u001b[0;34m\u001b[0m\u001b[0;34m\u001b[0m\u001b[0m\n\u001b[0;32m----> 4\u001b[0;31m \u001b[0mprint\u001b[0m\u001b[0;34m(\u001b[0m\u001b[0;34m'2'\u001b[0m \u001b[0;34m+\u001b[0m \u001b[0;36m3\u001b[0m\u001b[0;34m)\u001b[0m\u001b[0;34m\u001b[0m\u001b[0;34m\u001b[0m\u001b[0m\n\u001b[0m",
            "\u001b[0;31mTypeError\u001b[0m: can only concatenate str (not \"int\") to str"
          ]
        }
      ]
    },
    {
      "cell_type": "code",
      "source": [
        "print(2 + int('2512'))\n",
        "print('abs' + str(123) + str(True))"
      ],
      "metadata": {
        "id": "sC5gz57i1nvC",
        "colab": {
          "base_uri": "https://localhost:8080/"
        },
        "outputId": "a998a505-4b03-49d6-82ca-27d0dd96af5c"
      },
      "execution_count": null,
      "outputs": [
        {
          "output_type": "stream",
          "name": "stdout",
          "text": [
            "2514\n",
            "abs123True\n"
          ]
        }
      ]
    },
    {
      "cell_type": "markdown",
      "source": [
        "# I/O, красивая печать"
      ],
      "metadata": {
        "id": "hNNd0xRkKwjV"
      }
    },
    {
      "cell_type": "markdown",
      "source": [
        "Ввод с помощью встроенной функции `input()`. При этом введенная строка может содержать несколько смысловых кусков, которые можно разбить методом `split()` для строк.\n",
        "\n",
        "Список встроенных функций: https://docs.python.org/3/library/functions.html"
      ],
      "metadata": {
        "id": "9XsFu7g0f5N0"
      }
    },
    {
      "cell_type": "code",
      "source": [
        "input('Введите три числа через зяпятую: ').split()"
      ],
      "metadata": {
        "id": "XCWQfx8Fhahn",
        "colab": {
          "base_uri": "https://localhost:8080/"
        },
        "outputId": "e070e0d2-e083-4b52-8910-90bc407802a7"
      },
      "execution_count": null,
      "outputs": [
        {
          "name": "stdout",
          "output_type": "stream",
          "text": [
            "Введите три числа через зяпятую: 1, 2, 3\n"
          ]
        },
        {
          "output_type": "execute_result",
          "data": {
            "text/plain": [
              "['1,', '2,', '3']"
            ]
          },
          "metadata": {},
          "execution_count": 16
        }
      ]
    },
    {
      "cell_type": "markdown",
      "source": [
        "Вывод осуществляется с помощью функции `print(*objects, sep=' ', end='\\n', file=None, flush=False)`:"
      ],
      "metadata": {
        "id": "GdohJD1AhoxF"
      }
    },
    {
      "cell_type": "code",
      "source": [
        "a, b, c = 1, 2, 3\n",
        "print(a, b, c, sep = ',')"
      ],
      "metadata": {
        "id": "m6tQry148PVl",
        "colab": {
          "base_uri": "https://localhost:8080/"
        },
        "outputId": "9fbe799b-0e7e-4c28-89cc-58c933da8848"
      },
      "execution_count": null,
      "outputs": [
        {
          "output_type": "stream",
          "name": "stdout",
          "text": [
            "1,2,3\n"
          ]
        }
      ]
    },
    {
      "cell_type": "markdown",
      "source": [
        "Также можно просто писать в файл:"
      ],
      "metadata": {
        "id": "aOi5SZ6B8XSf"
      }
    },
    {
      "cell_type": "code",
      "source": [
        "numbers = ['1', '2', '3']\n",
        "lines = ' '.join(numbers)\n",
        "\n",
        "with open('output.txt', mode='w', encoding='utf-8') as f: # альтернативно можно использовать синтаксис с f = open(...) f.readlines() f.close()\n",
        "    f.write(lines)"
      ],
      "metadata": {
        "id": "DCGSn5_Bh5zH"
      },
      "execution_count": null,
      "outputs": []
    },
    {
      "cell_type": "markdown",
      "source": [
        "Форматировать строки можно разными способами"
      ],
      "metadata": {
        "id": "UNHm3NQ2h7NG"
      }
    },
    {
      "cell_type": "code",
      "source": [
        "name = 'Яна'\n",
        "age = 11\n",
        "height = 2.01\n",
        "\n",
        "# 1:\n",
        "print(\"Ваше имя: %s. Ваш возраст: %s.\" % (name, age))\n",
        "print(\"Ваш рост: %.1f м.\" % height) # f - от float\n",
        "\n",
        "# 2:\n",
        "print(f\"\\nВаше имя: {name}. Ваш возраст: {age}. Рост: {height:.2f}\")\n",
        "print(f\"\\nВаше имя: {name}. Ваш возраст: {age}. Рост: {round(height,2)}\")\n",
        "\n",
        "# 3\n",
        "print(\"\\nВаше имя: {}. Ваш возраст: {}. Рост: {:.2f}\".format(name, age, height))\n",
        "\n",
        "# 4\n",
        "print(\"\\nВаше имя: \", name, \" . Ваш возраст: \", age, \" Рост: \", height)"
      ],
      "metadata": {
        "id": "fCkqYD4Ah7kh",
        "colab": {
          "base_uri": "https://localhost:8080/"
        },
        "outputId": "038f492b-daad-4b1b-dbfc-2d0cad8b16d1"
      },
      "execution_count": null,
      "outputs": [
        {
          "output_type": "stream",
          "name": "stdout",
          "text": [
            "Ваше имя: Яна. Ваш возраст: 11.\n",
            "Ваш рост: 2.0 м.\n",
            "\n",
            "Ваше имя: Яна. Ваш возраст: 11. Рост: 2.01\n",
            "\n",
            "Ваше имя: Яна. Ваш возраст: 11. Рост: 2.01\n",
            "\n",
            "Ваше имя: Яна. Ваш возраст: 11. Рост: 2.01\n",
            "\n",
            "Ваше имя:  Яна  . Ваш возраст:  11  Рост:  2.01\n"
          ]
        }
      ]
    },
    {
      "cell_type": "code",
      "source": [
        "# Задание: пользователь вводит свое имя и города нахождения, выведите приветствие \"Привет, [имя пользователя] из [город нахождения]!\".\n",
        "\n",
        "# TODO\n",
        "#name, city = input(\"Введите свое имя и город: \").split()\n",
        "#print(\"Привет, {} из {}!\".format(name, city))\n",
        "name, city = input('Введите своё имя и город нахождения через зяпятую: ').split(',')\n",
        "print(f\"Привет, {name} из {city}!\")"
      ],
      "metadata": {
        "id": "kHTHtrz3iFUa",
        "colab": {
          "base_uri": "https://localhost:8080/"
        },
        "outputId": "4ab600ac-ad11-4953-b647-2a7be1f6eadc"
      },
      "execution_count": null,
      "outputs": [
        {
          "output_type": "stream",
          "name": "stdout",
          "text": [
            "Введите своё имя и город нахождения через зяпятую: Vasya,Moskva\n",
            "Привет, Vasya из Moskva!\n"
          ]
        }
      ]
    },
    {
      "cell_type": "code",
      "source": [
        "# Задание: запросите у пользователя точность после запятой, с которой он хочет увидеть число Пи, и выведите его.\n",
        "user_input = input('Введите точность: ')\n",
        "\n",
        "# TODO\n",
        "print(round(pi, int(user_input)))\n",
        "\n",
        "helper = \"{:.\" + user_input + \"f}\"\n",
        "print(helper.format(pi))"
      ],
      "metadata": {
        "id": "Dp198IgflEg6",
        "colab": {
          "base_uri": "https://localhost:8080/"
        },
        "outputId": "5051c5bc-8855-422d-b97f-af5858e3f456"
      },
      "execution_count": null,
      "outputs": [
        {
          "output_type": "stream",
          "name": "stdout",
          "text": [
            "Введите точность: 3\n",
            "3.142\n",
            "3.142\n"
          ]
        }
      ]
    },
    {
      "cell_type": "markdown",
      "source": [
        "# Типы данных (список, кортеж, множество, словарь)"
      ],
      "metadata": {
        "id": "HC0nev7x3MSy"
      }
    },
    {
      "cell_type": "markdown",
      "source": [
        "## Список"
      ],
      "metadata": {
        "id": "FrHPV_cUantV"
      }
    },
    {
      "cell_type": "markdown",
      "source": [
        "Методы списков: https://docs.python.org/3/tutorial/datastructures.html"
      ],
      "metadata": {
        "id": "2BmTQgy_gWPz"
      }
    },
    {
      "cell_type": "code",
      "source": [
        "# В списки могут входить данные разных типов\n",
        "student1 = ['Ivan Ivanov', 1987, 7.5, True]\n",
        "student2 = ['Maria Smirnova', 1991, 7.9, False]\n",
        "# Еще списки можно вкладывать друг в друга\n",
        "students = [student1, student2]\n",
        "print(students)\n",
        "# Элементы списков нумеруются, начиная с 0. Мы можем получить доступ к элементу списка по его индексу.\n",
        "print(students[0])\n",
        "print(students[0][1])\n",
        "# Или отрицательному индексу\n",
        "print(students[0][-1])"
      ],
      "metadata": {
        "id": "pARQkIrgaq_D",
        "colab": {
          "base_uri": "https://localhost:8080/"
        },
        "outputId": "d50e8665-1bfb-481e-ae14-1af8bdd20df6"
      },
      "execution_count": null,
      "outputs": [
        {
          "output_type": "stream",
          "name": "stdout",
          "text": [
            "[['Ivan Ivanov', 1987, 7.5, True], ['Maria Smirnova', 1991, 7.9, False]]\n",
            "['Ivan Ivanov', 1987, 7.5, True]\n",
            "1987\n",
            "True\n"
          ]
        }
      ]
    },
    {
      "cell_type": "code",
      "source": [
        "# В отличие от строк, списки являются изменяемым типом данных\n",
        "student1[1] = 1981\n",
        "print(student1)\n",
        "student1[0][-1] = 'w'"
      ],
      "metadata": {
        "id": "aXxoRpizZE0E",
        "colab": {
          "base_uri": "https://localhost:8080/",
          "height": 193
        },
        "outputId": "ced27249-d06c-4051-dce7-be69d8faca91"
      },
      "execution_count": null,
      "outputs": [
        {
          "output_type": "stream",
          "name": "stdout",
          "text": [
            "['Ivan Ivanov', 1981, 7.5, True]\n"
          ]
        },
        {
          "output_type": "error",
          "ename": "TypeError",
          "evalue": "'str' object does not support item assignment",
          "traceback": [
            "\u001b[0;31m---------------------------------------------------------------------------\u001b[0m",
            "\u001b[0;31mTypeError\u001b[0m                                 Traceback (most recent call last)",
            "\u001b[0;32m<ipython-input-33-238e11ee5b87>\u001b[0m in \u001b[0;36m<cell line: 4>\u001b[0;34m()\u001b[0m\n\u001b[1;32m      2\u001b[0m \u001b[0mstudent1\u001b[0m\u001b[0;34m[\u001b[0m\u001b[0;36m1\u001b[0m\u001b[0;34m]\u001b[0m \u001b[0;34m=\u001b[0m \u001b[0;36m1981\u001b[0m\u001b[0;34m\u001b[0m\u001b[0;34m\u001b[0m\u001b[0m\n\u001b[1;32m      3\u001b[0m \u001b[0mprint\u001b[0m\u001b[0;34m(\u001b[0m\u001b[0mstudent1\u001b[0m\u001b[0;34m)\u001b[0m\u001b[0;34m\u001b[0m\u001b[0;34m\u001b[0m\u001b[0m\n\u001b[0;32m----> 4\u001b[0;31m \u001b[0mstudent1\u001b[0m\u001b[0;34m[\u001b[0m\u001b[0;36m0\u001b[0m\u001b[0;34m]\u001b[0m\u001b[0;34m[\u001b[0m\u001b[0;34m-\u001b[0m\u001b[0;36m1\u001b[0m\u001b[0;34m]\u001b[0m \u001b[0;34m=\u001b[0m \u001b[0;34m'w'\u001b[0m\u001b[0;34m\u001b[0m\u001b[0;34m\u001b[0m\u001b[0m\n\u001b[0m",
            "\u001b[0;31mTypeError\u001b[0m: 'str' object does not support item assignment"
          ]
        }
      ]
    },
    {
      "cell_type": "code",
      "source": [
        "students[1][0][1:7]"
      ],
      "metadata": {
        "colab": {
          "base_uri": "https://localhost:8080/",
          "height": 35
        },
        "id": "PEXKnLttzwO6",
        "outputId": "43b376c4-81f1-490f-8044-5cede1dc171c"
      },
      "execution_count": null,
      "outputs": [
        {
          "output_type": "execute_result",
          "data": {
            "text/plain": [
              "'aria S'"
            ],
            "application/vnd.google.colaboratory.intrinsic+json": {
              "type": "string"
            }
          },
          "metadata": {},
          "execution_count": 40
        }
      ]
    },
    {
      "cell_type": "code",
      "source": [
        "# Функция len()\n",
        "print(len(students))\n",
        "print(len(students[1]))\n",
        "print(len(students[1][0]))\n",
        "print(len(students[1][0][:5]))\n",
        "print(len([]))"
      ],
      "metadata": {
        "id": "rhDvMbpoblQq",
        "colab": {
          "base_uri": "https://localhost:8080/"
        },
        "outputId": "4f2301d2-53b1-4e12-e404-e99e19d3ab36"
      },
      "execution_count": null,
      "outputs": [
        {
          "output_type": "stream",
          "name": "stdout",
          "text": [
            "2\n",
            "4\n",
            "14\n",
            "5\n",
            "0\n"
          ]
        }
      ]
    },
    {
      "cell_type": "code",
      "source": [
        "# Удаление элементов из списка\n",
        "# Удалить элемент из списка можно с помощью метода .remove() (без возвращения удаленного элемента)\n",
        "# или .pop() (с возвращением удаленного элемента).\n",
        "student1.remove(True)\n",
        "print(student1)\n",
        "x = student2.pop(-1)\n",
        "print(student2)\n",
        "print(x)"
      ],
      "metadata": {
        "id": "qbBr-l8UcjDU",
        "colab": {
          "base_uri": "https://localhost:8080/"
        },
        "outputId": "684a1651-2570-4b9c-ddd3-9b0309792b95"
      },
      "execution_count": null,
      "outputs": [
        {
          "output_type": "stream",
          "name": "stdout",
          "text": [
            "['Ivan Ivanov', 1981, 7.5]\n",
            "['Maria Smirnova', 1991, 7.9]\n",
            "False\n"
          ]
        }
      ]
    },
    {
      "cell_type": "code",
      "source": [
        "# Добавление элементов в список\n",
        "student1.append([1,2])\n",
        "student1"
      ],
      "metadata": {
        "id": "0duN_GDecOpg",
        "colab": {
          "base_uri": "https://localhost:8080/"
        },
        "outputId": "f9c16a59-5b83-4313-bbd4-b493e429812e"
      },
      "execution_count": null,
      "outputs": [
        {
          "output_type": "execute_result",
          "data": {
            "text/plain": [
              "['Ivan Ivanov', 1981, 7.5, True, True, [1, 2]]"
            ]
          },
          "metadata": {},
          "execution_count": 45
        }
      ]
    },
    {
      "cell_type": "markdown",
      "source": [
        "## Множество"
      ],
      "metadata": {
        "id": "iBg36i7-avJ7"
      }
    },
    {
      "cell_type": "markdown",
      "source": [
        "Мы уже знаем списки - упорядоченные структуры, которые могут хранить в себе объекты любых типов, к которым мы можем обратиться по индексу. Теперь поговорим о стуктурах неупорядоченных - множествах и словарях.\n",
        "\n",
        "Множества хранят некоторое количество объектов, но, в отличие от списка, один объект может храниться в множестве не более одного раза. Кроме того, порядок элементов множества произволен, им нельзя управлять.\n",
        "\n",
        "Тип называется set, это же является конструктором типа, т.е. в функцию set можно передать произвольную последовательность, и из этой последовательности будет построено множество:"
      ],
      "metadata": {
        "id": "4e_yH05wk1Kf"
      }
    },
    {
      "cell_type": "code",
      "source": [
        "x = [4, 5, 6]\n",
        "print(set(x)) # передаем список\n",
        "x = {4, 5, 6}\n",
        "print(type(x))\n",
        "x = [4, 5, 6, 6]\n",
        "print(set(x))"
      ],
      "metadata": {
        "id": "-4Iy7jD1k6EK",
        "colab": {
          "base_uri": "https://localhost:8080/"
        },
        "outputId": "0123d849-291a-4f3e-e865-c30310c64833"
      },
      "execution_count": null,
      "outputs": [
        {
          "output_type": "stream",
          "name": "stdout",
          "text": [
            "{4, 5, 6}\n",
            "<class 'set'>\n",
            "{4, 5, 6}\n"
          ]
        }
      ]
    },
    {
      "cell_type": "code",
      "source": [
        "# Операции с множествами\n",
        "a = {1, 2, 3, 4}\n",
        "b = {3, 4, 5, 6}\n",
        "c = {2, 3}\n",
        "\n",
        " # проверка на подмножество (с подномжество a)\n",
        "print(c <= b) # не подмножество, т.к. в b нет 2\n",
        "print(a >= c)\n",
        "print(a | b) # объединение a.union(b) aka a+b\n",
        "print(a & b) # пересечение a.intersection(b)\n",
        "print(a - b) # разность множеств (все что в a, кроме b) a.difference(b)\n",
        "print(a ^ b) # симметрическая разность множеств (объединение без пересечения)\n",
        "\n",
        "c = a.copy() # копирование множества, или set(a)\n",
        "print(c)"
      ],
      "metadata": {
        "id": "4pcSGbzflSoK"
      },
      "execution_count": null,
      "outputs": []
    },
    {
      "cell_type": "code",
      "source": [
        "# Задание: напишите программу, которая удаляет дубликаты из списка\n",
        "my_list = [1, 2, 'two', 3, 4, 5, 'one', 'two', 3, 6, 5]\n",
        "\n",
        "#TODO\n",
        "my_list = [set(my_list)]\n",
        "my_list"
      ],
      "metadata": {
        "id": "fHgr4ajzaxeo",
        "colab": {
          "base_uri": "https://localhost:8080/"
        },
        "outputId": "199080ef-d825-4c66-d410-3ad7eef56b4d"
      },
      "execution_count": null,
      "outputs": [
        {
          "output_type": "execute_result",
          "data": {
            "text/plain": [
              "[{1, 2, 3, 4, 5, 6, 'one', 'two'}]"
            ]
          },
          "metadata": {},
          "execution_count": 5
        }
      ]
    },
    {
      "cell_type": "code",
      "source": [
        "# Задание: у Маши и Пети есть пищевые аллергии и есть списки продуктов, которые они могут есть.\n",
        "# Найдите все аллергены для Маши и Пети, а также список продуктов, которые они оба могут есть.\n",
        "pete_allergies = ['соя', 'глютен', 'лактоза', 'орехи']\n",
        "mary_allergies = ['глютен', 'цитрусовые', 'какао']\n",
        "\n",
        "pete_ok = ['рис', 'картошка', 'курица', 'гречка', 'цитрусовые', 'чай']\n",
        "mary_ok = ['гречка', 'кофе', 'молоко', 'орехи']\n",
        "\n",
        "#TODO\n",
        "# Не едят\n",
        "print(set(pete_allergies).union(set(mary_allergies)))\n",
        "# Едят\n",
        "print(set(pete_ok).intersection(set(mary_ok)))"
      ],
      "metadata": {
        "id": "aN3-v7MelZdY",
        "colab": {
          "base_uri": "https://localhost:8080/"
        },
        "outputId": "183dbd3e-87b6-45af-f244-888598a25492"
      },
      "execution_count": null,
      "outputs": [
        {
          "output_type": "stream",
          "name": "stdout",
          "text": [
            "{'лактоза', 'соя', 'какао', 'цитрусовые', 'глютен', 'орехи'}\n",
            "{'гречка'}\n"
          ]
        }
      ]
    },
    {
      "cell_type": "markdown",
      "source": [
        "## Словарь"
      ],
      "metadata": {
        "id": "9sThHjKKax-P"
      }
    },
    {
      "cell_type": "markdown",
      "source": [
        "Словарь состоит из набора ключей и соответствующих им значений. Значения могут быть любыми объектами (также как и в списке, хранить можно произвольные объекты). А ключи могут быть почти любыми объектами, но только неизменяемыми. В частности числами, строками, кортежами. Список или множество не могут быть ключом.\n",
        "\n",
        "Одному ключу соответствует ровно одно значение. Но одно и то же значение, в принципе, можно сопоставить разным ключам."
      ],
      "metadata": {
        "id": "vUllxGbFnHDD"
      }
    },
    {
      "cell_type": "code",
      "source": [
        "a = dict()\n",
        "type(a)"
      ],
      "metadata": {
        "id": "LCZFOzGHa0Ki",
        "colab": {
          "base_uri": "https://localhost:8080/"
        },
        "outputId": "33c92260-e926-4894-8230-fa041a86318a"
      },
      "execution_count": null,
      "outputs": [
        {
          "output_type": "execute_result",
          "data": {
            "text/plain": [
              "dict"
            ]
          },
          "metadata": {},
          "execution_count": 48
        }
      ]
    },
    {
      "cell_type": "code",
      "source": [
        "a['ch1'] = 'abc'\n",
        "a[2] = 3\n",
        "a[(1,2)] = [1, 2, 3]\n",
        "print(a)\n",
        "print(a['ch1'])"
      ],
      "metadata": {
        "id": "SwgzM2mwnLtX",
        "colab": {
          "base_uri": "https://localhost:8080/"
        },
        "outputId": "58ec84c7-c1fe-4dd0-f9da-7c75c67ed9f0"
      },
      "execution_count": null,
      "outputs": [
        {
          "output_type": "stream",
          "name": "stdout",
          "text": [
            "{'ch1': 'abc', 2: 3, (1, 2): [1, 2, 3]}\n",
            "abc\n"
          ]
        }
      ]
    },
    {
      "cell_type": "code",
      "source": [
        "print(a.keys())\n",
        "print(a.values())\n",
        "print(a.items())"
      ],
      "metadata": {
        "id": "QjV03CcYouyr",
        "colab": {
          "base_uri": "https://localhost:8080/"
        },
        "outputId": "8ab4f1e5-4481-4503-faf5-94764ddeecd3"
      },
      "execution_count": null,
      "outputs": [
        {
          "output_type": "stream",
          "name": "stdout",
          "text": [
            "dict_keys(['ch1', 2, (1, 2)])\n",
            "dict_values(['abc', 3, [1, 2, 3]])\n",
            "dict_items([('ch1', 'abc'), (2, 3), ((1, 2), [1, 2, 3])])\n"
          ]
        }
      ]
    },
    {
      "cell_type": "code",
      "source": [
        "a.pop('ch1')\n",
        "print(a)"
      ],
      "metadata": {
        "id": "YgHg-f6CpOAJ"
      },
      "execution_count": null,
      "outputs": []
    },
    {
      "cell_type": "markdown",
      "source": [
        "# Лямбда-функция"
      ],
      "metadata": {
        "id": "JOkn1HEIL38R"
      }
    },
    {
      "cell_type": "markdown",
      "source": [
        "- Также называется \"анонимной функцией\", потому что определяется без имени (в математике была введена в 1930-х).\n",
        "- Лямбда-функция может принимать много аргументов, но возвращает всегда только одно выражение (результат).\n",
        "- Обычно используется тогда, когда функция нужна на короткий промежуток времени, чтобы не писать полное определение.\n",
        "\n",
        "Синтаксис:\n",
        "\n",
        "lambda аргументы(ы): выражение\n"
      ],
      "metadata": {
        "id": "sOT-lxjmMHFS"
      }
    },
    {
      "cell_type": "code",
      "source": [
        "# Задание: напишите две функции (обычную через def и лямбда-функцию) для сложения трех чисел и проверьте время их исполнения.\n",
        "\n",
        "def add_three_digits(a: int, b: int, c: int) -> int:\n",
        "  # TODO\n",
        "  result = a + b + c\n",
        "  return result\n",
        "\n",
        "\n",
        "# Переменная со значением времени на момент выполнения строки\n",
        "start_time = time.time()\n",
        "#TODO\n",
        "print(\"def result: \", add_three_digits(1, 2, 3))\n",
        "print(\"--- %s seconds ---\" % (time.time() - start_time))\n",
        "\n",
        "start_time = time.time()\n",
        "add = lambda a, b, c: a + b + c\n",
        "print(\"lambda result: \", add(1, 2, 3))\n",
        "print(\"--- %s seconds ---\" % (time.time() - start_time))"
      ],
      "metadata": {
        "id": "RqcxPC30L6zk"
      },
      "execution_count": null,
      "outputs": []
    },
    {
      "cell_type": "code",
      "source": [
        "# Использование лямбда-функции внутри другой функции\n",
        "def add(n):\n",
        "    return lambda a : a + n\n",
        "\n",
        "result = add(100)\n",
        "print(result)\n",
        "print(\"-------------------\")\n",
        "print(result(200))\n",
        "print(\"-------------------\")\n",
        "print(result(300))\n",
        "print(\"-------------------\")\n",
        "print(result(400))\n",
        "print(\"-------------------\")\n",
        "print(result(500))"
      ],
      "metadata": {
        "id": "SGrsArWruEIF"
      },
      "execution_count": null,
      "outputs": []
    },
    {
      "cell_type": "code",
      "source": [
        "# Задание: отфильтруйте нечетные числа в заданном списке.\n",
        "my_list = [1, 2, 3, 4, 5, 6]\n",
        "odd_numbers = #TODO\n",
        "print(odd_numbers)"
      ],
      "metadata": {
        "id": "fj-cRNONwlbq"
      },
      "execution_count": null,
      "outputs": []
    },
    {
      "cell_type": "code",
      "source": [
        "# Задание: отсортируйте напитки по возрастанию цены.\n",
        "drinks = [(\"эспрессо\", 100), (\"американо\", 120), (\"латте\", 150), (\"черный чай\", 50)]\n",
        "sorted_drinks = #TODO\n",
        "print(sorted_drinks)"
      ],
      "metadata": {
        "id": "GY-gLbhbxB5T"
      },
      "execution_count": null,
      "outputs": []
    },
    {
      "cell_type": "code",
      "source": [
        "# Задание: тот же список отсортируйте по первой букве названия напитка.\n",
        "sorted_drinks = #TODO\n",
        "print(sorted_drinks)"
      ],
      "metadata": {
        "id": "3vAyyo7pynUW"
      },
      "execution_count": null,
      "outputs": []
    },
    {
      "cell_type": "markdown",
      "source": [
        "# Некоторые типы операторов\n",
        "\n"
      ],
      "metadata": {
        "id": "7Hb8I8SULDao"
      }
    },
    {
      "cell_type": "markdown",
      "source": [
        "## Операторы сравнения"
      ],
      "metadata": {
        "id": "62w8WZ4-hyV-"
      }
    },
    {
      "cell_type": "code",
      "source": [
        "# Оператор присваивания\n",
        "a = 10\n",
        "b = 5\n",
        "# Строго больше\n",
        "print('a > b =', a > b)\n",
        "# Строго меньше\n",
        "print('a < b =', a < b)\n",
        "# Равенство\n",
        "print('a == b =', a == b)\n",
        "# Не равенство\n",
        "print('a != b =', a != b)\n",
        "# Больше или равно\n",
        "print('a >= b =', a >= b)\n",
        "# Меньше или равно\n",
        "print('a <= b =', a <= b)"
      ],
      "metadata": {
        "colab": {
          "base_uri": "https://localhost:8080/"
        },
        "id": "g2zN8P5fFfKP",
        "outputId": "ed7d7b2f-6084-4b32-c995-96767638e342"
      },
      "execution_count": null,
      "outputs": [
        {
          "output_type": "stream",
          "name": "stdout",
          "text": [
            "a > b = True\n",
            "a < b = False\n",
            "a == b = False\n",
            "a != b = True\n",
            "a >= b = True\n",
            "a <= b = False\n"
          ]
        }
      ]
    },
    {
      "cell_type": "markdown",
      "source": [
        "## Логические операторы"
      ],
      "metadata": {
        "id": "OZF7HpZ_i8px"
      }
    },
    {
      "cell_type": "markdown",
      "source": [
        "Это союзы, которые позволяют объединять по несколько условий. В питоне всего три таких оператора:\n",
        "- and (и) -- если условия с двух сторон оператора and истинны, тогда все выражение целиком считается истинным.\n",
        "- or (или) -- выражение ложно, если оба операнда с двух сторон ложные. Если хотя бы одно из них истинное, то и все выражение истинно.\n",
        "- not (не) -- инвертирует булевые значения выражения. True превращается в False и наоборот. В примере внизу булево значение 0 — False. Поэтому оно превращается в True.\n",
        "\n",
        "![Таблица истинности](https://comphome.ru/wp-content/uploads/author/post/2021/boolean0.jpg)"
      ],
      "metadata": {
        "id": "xBKhvnaIjDQA"
      }
    },
    {
      "cell_type": "code",
      "source": [
        "a = (7 > 7) and (2 > -1)\n",
        "print(a)\n",
        "a = (7 > 7) or (2 > -1)\n",
        "print(a)\n",
        "a = not(0)\n",
        "print(a)"
      ],
      "metadata": {
        "id": "33DltFnijBcC",
        "colab": {
          "base_uri": "https://localhost:8080/"
        },
        "outputId": "ba5eac74-9a80-4e1f-f2a8-f8a646c7198a"
      },
      "execution_count": null,
      "outputs": [
        {
          "output_type": "stream",
          "name": "stdout",
          "text": [
            "False\n",
            "True\n",
            "True\n"
          ]
        }
      ]
    },
    {
      "cell_type": "code",
      "source": [
        "bool(1), bool(0)"
      ],
      "metadata": {
        "colab": {
          "base_uri": "https://localhost:8080/"
        },
        "id": "senYOCvCjHrQ",
        "outputId": "a03c6806-0d81-4ab5-8312-744938a7c63f"
      },
      "execution_count": null,
      "outputs": [
        {
          "output_type": "execute_result",
          "data": {
            "text/plain": [
              "(True, False)"
            ]
          },
          "metadata": {},
          "execution_count": 7
        }
      ]
    },
    {
      "cell_type": "code",
      "source": [
        "# Задание: пользователь вводит два числа. Сделайте проверку первого числа на > 0 и проверку второго на неравенство 0.\n",
        "# Если проверка пройдена, выведите результат деления первого числа на второе.\n",
        "user_input = input(\"Введите два числа: \").split()\n",
        "a = float(user_input[0])\n",
        "b = float(user_input[1])\n",
        "\n",
        "#TODO\n",
        "if a>0 and b!=0:\n",
        "  print(a/b)\n",
        "else:\n",
        "  print('ошибка')"
      ],
      "metadata": {
        "id": "MSWb5Iyrkkzp",
        "colab": {
          "base_uri": "https://localhost:8080/"
        },
        "outputId": "d3b75642-1361-480a-ba38-29c8102df988"
      },
      "execution_count": null,
      "outputs": [
        {
          "output_type": "stream",
          "name": "stdout",
          "text": [
            "Введите два числа: 0 3\n",
            "ошибка\n"
          ]
        }
      ]
    },
    {
      "cell_type": "code",
      "source": [
        "letters = ['a', 'b', 'c']\n",
        "my_dict = {}\n",
        "for l in letters:\n",
        "    my_dict[l] = []\n",
        "\n",
        "more_letters = ['a', 'd']\n",
        "for l in more_letters:\n",
        "    if l not in my_dict:\n",
        "        my_dict[l] = []\n",
        "    else:\n",
        "        my_dict[l].append(1)\n",
        "\n",
        "my_dict"
      ],
      "metadata": {
        "colab": {
          "base_uri": "https://localhost:8080/"
        },
        "id": "eYQ97mZDd-m_",
        "outputId": "15d58f7f-1253-4a6c-c12f-310cc8a39301"
      },
      "execution_count": null,
      "outputs": [
        {
          "output_type": "execute_result",
          "data": {
            "text/plain": [
              "{'a': [1], 'b': [], 'c': [], 'd': []}"
            ]
          },
          "metadata": {},
          "execution_count": 11
        }
      ]
    },
    {
      "cell_type": "markdown",
      "source": [
        "## Операторы принадлежности"
      ],
      "metadata": {
        "id": "zgubmiZZnMTk"
      }
    },
    {
      "cell_type": "markdown",
      "source": [
        "Эти операторы проверяют, является ли значение частью последовательности. Последовательность может быть списком, строкой или кортежем. Есть всего два таких оператора: in и not in."
      ],
      "metadata": {
        "id": "YcWgrjY6nPb3"
      }
    },
    {
      "cell_type": "code",
      "source": [
        "# Задание: есть список животных. Возьмите у пользователя название животного и сделайте проверку на присутствие в списке.\n",
        "animals = ['кот', 'попугай', 'собака', 'лошадь', 'сурикат', 'кабан', 'корова', 'волк']\n",
        "user_input = input() #.lower()\n",
        "#TODO\n",
        "if user_input in animals:\n",
        "    print('да')\n",
        "else:\n",
        "    print('нет')"
      ],
      "metadata": {
        "id": "5O9GJ-FZn-EQ",
        "colab": {
          "base_uri": "https://localhost:8080/"
        },
        "outputId": "6b423531-1de5-4313-b468-b29f95596a2c"
      },
      "execution_count": null,
      "outputs": [
        {
          "output_type": "stream",
          "name": "stdout",
          "text": [
            "КОТ\n",
            "нет\n"
          ]
        }
      ]
    },
    {
      "cell_type": "markdown",
      "source": [
        "# if/else"
      ],
      "metadata": {
        "id": "1GZiiGUiLIg8"
      }
    },
    {
      "cell_type": "markdown",
      "source": [
        "Условия это, наверное, душа программирования. Мы очень часто хотим, чтобы наша программа работала по разному в зависимости от происходящего. Алгоритмы, использующие условия, называют разветвляющимися, и для их понимания очень удобно рисовать блок-схемы (нет, они не остались в школе, если в коде много условий и разных действий по-прежнему очень помогает нарисовать на бумаге дерево).\n",
        "\n",
        "Условия (if) позволяют выполнять код только в случае истинности какого-то логического выражения.\n",
        "\n",
        "Проще говоря, \"если верно, что..., то сделать ...\".\n",
        "\n",
        "Самый простой пример использования if - это вывод какой-то фразы по условию."
      ],
      "metadata": {
        "id": "rgRo8aWmpqKF"
      }
    },
    {
      "cell_type": "code",
      "source": [
        "x = 1\n",
        "if x == 1:  # Выражение равно True, это условие истинное\n",
        "    print('That is true!')  # Фраза выводится\n",
        "else:\n",
        "    print('That is not true!')"
      ],
      "metadata": {
        "id": "Fk3UA1_BprpD"
      },
      "execution_count": null,
      "outputs": []
    },
    {
      "cell_type": "markdown",
      "source": [
        " C помощью конструкции else if (или elif) можно сразу же написать еще одну проверку в случае ложности условия:"
      ],
      "metadata": {
        "id": "Q9Zwh2nwqHDh"
      }
    },
    {
      "cell_type": "code",
      "source": [
        "a = int(input('Введите первое число: '))\n",
        "b = int(input('Введите второе число: '))\n",
        "\n",
        "if a < b:\n",
        "    print(a)\n",
        "elif a > b:\n",
        "    print(b)\n",
        "else:\n",
        "    print('Равные числа:', a)"
      ],
      "metadata": {
        "id": "bj6_KE5qqFbv"
      },
      "execution_count": null,
      "outputs": []
    },
    {
      "cell_type": "code",
      "source": [
        "a = 1\n",
        "b = 2\n",
        "\n",
        "if a < b:\n",
        "    print(a)\n",
        "\n",
        "print('sth')"
      ],
      "metadata": {
        "colab": {
          "base_uri": "https://localhost:8080/"
        },
        "id": "4FFdpGYR6ud6",
        "outputId": "384c5e37-88da-4475-8666-0df8231aed23"
      },
      "execution_count": null,
      "outputs": [
        {
          "output_type": "stream",
          "name": "stdout",
          "text": [
            "1\n",
            "sth\n"
          ]
        }
      ]
    },
    {
      "cell_type": "code",
      "source": [
        "# Задание: рассчитайте скидку покупателя в рублях. Если сумма покупки больше или равна 5000 руб., скидка 25%.\n",
        "# Дороже 1000 руб., но дешевле 5000 руб., скидка 20%.\n",
        "# Если сумма меньше или равна 1000 руб., то скидка 15%.\n",
        "amount = float(input('Введите сумму:'))\n",
        "#TODO\n",
        "if amount >= 5000:\n",
        "    print(amount * 0.25)\n",
        "elif 1000 < amount < 5000: # (amount > 1000 and amount < 5000)\n",
        "    print(amount * 0.2)\n",
        "else:\n",
        "    print(amount * 0.15)"
      ],
      "metadata": {
        "id": "7Pwgrw76qxeH",
        "colab": {
          "base_uri": "https://localhost:8080/"
        },
        "outputId": "b8d7ed1e-012c-4c6d-f2f2-8d13f6cdaa8c"
      },
      "execution_count": null,
      "outputs": [
        {
          "output_type": "stream",
          "name": "stdout",
          "text": [
            "Введите сумму:4000\n",
            "800.0\n"
          ]
        }
      ]
    },
    {
      "cell_type": "code",
      "source": [
        "# Задание: для имени переменной, введенной пользователем, напишите проверку корректности имени.\n",
        "# Правила имен переменных:\n",
        "# - могут содержать только буквенные (латинские) и целочисленные символы и нижнее подчеркивание,\n",
        "# - должны начинаться с буквы или нижнего подчеркивания,\n",
        "# - могут содержать как строчные, так и заглавные буквы,\n",
        "# - не могут начинаться с цифры,\n",
        "# - не совпадают со специальными ключевыми словами.\n",
        "\n",
        "# Методы для строк (isidentifier() в этом задании использовать нельзя!): https://www.w3schools.com/python/python_ref_string.asp\n",
        "\n",
        "\n",
        "def is_latin(text):\n",
        "    return not bool(set(text) - set(printable))\n",
        "\n",
        "\n",
        "var_name = input(\"Введите имя переменной: \")\n",
        "correct = True\n",
        "\n",
        "#TODO\n",
        "if var_name[0] == '_' or var_name[0].isalpha():\n",
        "    if not iskeyword(var_name):\n",
        "        for i in var_name: # ab!5j\n",
        "            if not (i.isdigit() or i.isalpha()):\n",
        "                correct = False\n",
        "        if is_latin(var_name) and correct == True:\n",
        "            print(\"Все хорошо\")"
      ],
      "metadata": {
        "id": "g_8zcIWOLJTW"
      },
      "execution_count": null,
      "outputs": []
    },
    {
      "cell_type": "code",
      "source": [
        "def is_latin(text):\n",
        "    return not bool(set(text) - set(printable))\n",
        "\n",
        "\n",
        "var_name = input(\"Введите имя переменной: \")\n",
        "correct = True\n",
        "\n",
        "if not (var_name[0] == '_' or var_name[0].isalpha()):\n",
        "    correct = False\n",
        "    print(\"Первый символ должен быть _ или буквой.\")\n",
        "\n",
        "if iskeyword(var_name):\n",
        "    correct = False\n",
        "    print(\"Совпадает с ключевым словом.\")\n",
        "\n",
        "if not ((is_latin(var_name)) and (var_name.isalnum() or \"_\" in var_name)):\n",
        "    correct = False\n",
        "    print(\"Содержит не латинские символы или знаки препинания кроме _.\")\n",
        "\n",
        "if correct == True:\n",
        "    print(\"Имя {} корректно\".format(var_name))"
      ],
      "metadata": {
        "id": "UMplJ4hm5peC",
        "colab": {
          "base_uri": "https://localhost:8080/"
        },
        "outputId": "89d58d53-9e2a-4372-f1c9-b0cff8f80d1a"
      },
      "execution_count": null,
      "outputs": [
        {
          "output_type": "stream",
          "name": "stdout",
          "text": [
            "Введите имя переменной: kek\n",
            "Имя kek корректно\n"
          ]
        }
      ]
    },
    {
      "cell_type": "markdown",
      "source": [
        "# Цикл for"
      ],
      "metadata": {
        "id": "M7SxfeBALJv1"
      }
    },
    {
      "cell_type": "code",
      "source": [
        "i = 1\n",
        "for color in 'red', 'orange', 'yellow', 'green', 'cyan', 'blue', 'violet':\n",
        "    print('#', i, ' color of rainbow is ', color, sep = '')\n",
        "    i += 1"
      ],
      "metadata": {
        "colab": {
          "base_uri": "https://localhost:8080/"
        },
        "id": "PXjK6vCEkQnP",
        "outputId": "52cf84a4-9cb9-4394-c40e-21444efa1dc5"
      },
      "execution_count": null,
      "outputs": [
        {
          "output_type": "stream",
          "name": "stdout",
          "text": [
            "#1 color of rainbow is red\n",
            "#2 color of rainbow is orange\n",
            "#3 color of rainbow is yellow\n",
            "#4 color of rainbow is green\n",
            "#5 color of rainbow is cyan\n",
            "#6 color of rainbow is blue\n",
            "#7 color of rainbow is violet\n"
          ]
        }
      ]
    },
    {
      "cell_type": "code",
      "source": [
        "# Задание: удалите стор-слова из текста\n",
        "stop_words = [\"i\", \"me\", \"my\", \"myself\", \"we\", \"our\", \"ours\", \"ourselves\", \"you\", \"your\", \"yours\", \"yourself\", \"yourselves\", \"he\", \"him\", \"his\", \"himself\", \"she\", \"her\", \"hers\", \"herself\", \"it\", \"its\", \"itself\", \"they\", \"them\", \"their\", \"theirs\", \"themselves\", \"what\", \"which\", \"who\", \"whom\", \"this\", \"that\", \"these\", \"those\", \"am\", \"is\", \"are\", \"was\", \"were\", \"be\", \"been\", \"being\", \"have\", \"has\", \"had\", \"having\", \"do\", \"does\", \"did\", \"doing\", \"a\", \"an\", \"the\", \"and\", \"but\", \"if\", \"or\", \"because\", \"as\", \"until\", \"while\", \"of\", \"at\", \"by\", \"for\", \"with\", \"about\", \"against\", \"between\", \"into\", \"through\", \"during\", \"before\", \"after\", \"above\", \"below\", \"to\", \"from\", \"up\", \"down\", \"in\", \"out\", \"on\", \"off\", \"over\", \"under\", \"again\", \"further\", \"then\", \"once\", \"here\", \"there\", \"when\", \"where\", \"why\", \"how\", \"all\", \"any\", \"both\", \"each\", \"few\", \"more\", \"most\", \"other\", \"some\", \"such\", \"no\", \"nor\", \"not\", \"only\", \"own\", \"same\", \"so\", \"than\", \"too\", \"very\", \"s\", \"t\", \"can\", \"will\", \"just\", \"don\", \"should\", \"now\"]\n",
        "text = \"\"\"the outbreak of coronavirus disease 2019 ( COVID - 19 ) has created a global health crisis that has had a deep impact on the way we perceive our world and our everyday lives . Not only the rate of contagion and patterns of transmission threatens our sense of agency , but the safety measures put in place to contain the spread of the virus also require social distancing by refraining from doing what is inherently human , which is to find solace in the company of others . Within this context of physical threat , social and physical distancing , as well as public alarm , what has been ( and can be ) the role of the different mass media channels in our lives on individual , social and societal levels ? Mass media have long been recognized as powerful forces shaping how we experience the world and ourselves . This recognition is accompanied by a growing volume of research , that closely follows the footsteps of technological transformations ( e . g . radio , movies , television , the internet , mobiles ) and the zeitgeist ( e . g . cold war , 9 / 11 , climate change ) in an attempt to map mass media major impacts on how we perceive ourselves , both as individuals and citizens . Are media ( broadcast and digital ) still able to convey a sense of unity reaching large audiences , or are messages lost in the noisy crowd of mass self - communication ?\"\"\"\n",
        "\n",
        "#TODO\n",
        "text = text.split()\n",
        "clean_text = [w for w in text if w not in stop_words]\n",
        "[w if w not in stop_words else '' for w in text]\n",
        "clean_text"
      ],
      "metadata": {
        "id": "Oh7MidmXi8vS"
      },
      "execution_count": null,
      "outputs": []
    },
    {
      "cell_type": "code",
      "source": [
        "# Задание: выведите список слов длиннее 3 символов\n",
        "text = \"\"\"Ты богат, я очень беден;\n",
        "Ты прозаик, я поэт;\n",
        "Ты румян, как маков цвет,\n",
        "Я, как смерть, и тощ и бледен.\"\"\"\n",
        "\n",
        "#TODO\n",
        "words = text.split()\n",
        "long_words = [ ]\n",
        "for word in words:\n",
        "    word = word.strip(\",.;\")\n",
        "    if len(word) > 3:\n",
        "        long_words.append(word)\n",
        "print(long_words)"
      ],
      "metadata": {
        "id": "S0K_b6WO2uy-",
        "colab": {
          "base_uri": "https://localhost:8080/"
        },
        "outputId": "ac8ce172-6406-42c4-b29c-7838fdbd8ce1"
      },
      "execution_count": null,
      "outputs": [
        {
          "output_type": "stream",
          "name": "stdout",
          "text": [
            "['богат', 'очень', 'беден', 'прозаик', 'поэт', 'румян', 'маков', 'цвет', 'смерть', 'бледен']\n"
          ]
        }
      ]
    },
    {
      "cell_type": "markdown",
      "source": [
        "Итерация по словарям\n",
        "  "
      ],
      "metadata": {
        "id": "nckX9ohJ4y_T"
      }
    },
    {
      "cell_type": "code",
      "source": [
        "my_dict = {\"color\": \"blue\", \"fruit\": \"apple\", \"pet\": \"dog\"}\n",
        "\n",
        "# Итерация по ключам с помощью встроенной функции `.__iter__()`.\n",
        "#for k in my_dict:\n",
        "#    print(k, my_dict[k])\n",
        "\n",
        "# Итерация по парам \"ключ-значение\":\n",
        "print(my_dict.items())\n",
        "\n",
        "for key, value in my_dict.items():\n",
        "    print(key, value)\n",
        "\n",
        "# Итерация по ключам\n",
        "#print(my_dict.keys())\n",
        "\n",
        "#for k in my_dict.keys()\n",
        "#    print(k)\n",
        "\n",
        "# Итерация по значениям\n",
        "#print(my_dict.values())\n",
        "\n",
        "#for v in my_dict.values()\n",
        "#    print(v)"
      ],
      "metadata": {
        "id": "VtYes72g4wNb",
        "colab": {
          "base_uri": "https://localhost:8080/"
        },
        "outputId": "0a9d58ca-403b-411e-a812-121349b7219d"
      },
      "execution_count": null,
      "outputs": [
        {
          "output_type": "stream",
          "name": "stdout",
          "text": [
            "dict_items([('color', 'blue'), ('fruit', 'apple'), ('pet', 'dog')])\n",
            "color blue\n",
            "fruit apple\n",
            "pet dog\n"
          ]
        }
      ]
    },
    {
      "cell_type": "code",
      "source": [
        "# Задание: выведите имя человека и его город\n",
        "people = {1: {'name': 'John', 'age': '27', 'city': 'Moscow'},\n",
        "          2: {'name': 'Marie', 'age': '22', 'city': 'Beijing'},\n",
        "          3: {'name': 'Kate', 'age': '31', 'city': 'New York'},\n",
        "          4: {'name': 'Dave', 'age': '20', 'city': 'Bratislava'}}\n",
        "\n",
        "# TODO\n",
        "for value in people.values():\n",
        "    print(value['name'], value['city'])"
      ],
      "metadata": {
        "id": "xIEtgrxd6fx4",
        "colab": {
          "base_uri": "https://localhost:8080/"
        },
        "outputId": "e4aef4e7-aaa6-4e0b-ea71-2682005e317f"
      },
      "execution_count": null,
      "outputs": [
        {
          "output_type": "stream",
          "name": "stdout",
          "text": [
            "John Moscow\n",
            "Marie Beijing\n",
            "Kate New York\n",
            "Dave Bratislava\n"
          ]
        }
      ]
    },
    {
      "cell_type": "code",
      "source": [
        "# Задание про конвертацию валют\n",
        "# https://developers.google.com/adsense/management/appendix/currencies\n",
        "#user_input = input(\"Введите через пробел исходную валюту, валюту, в которую хотите поменять, и сумму: \").split()\n",
        "#TODO\n",
        "convert('rub', 'usd', 10)"
      ],
      "metadata": {
        "id": "jRg6VLR0SZt4",
        "colab": {
          "base_uri": "https://localhost:8080/",
          "height": 35
        },
        "outputId": "049ee20b-ef91-4a13-fc05-cada1f3b515c"
      },
      "execution_count": null,
      "outputs": [
        {
          "output_type": "execute_result",
          "data": {
            "text/plain": [
              "'{\"from\": \"RUB\", \"to\": \"USD\", \"amount\": 0, \"converted\": false}'"
            ],
            "application/vnd.google.colaboratory.intrinsic+json": {
              "type": "string"
            }
          },
          "metadata": {},
          "execution_count": 13
        }
      ]
    },
    {
      "cell_type": "code",
      "source": [
        "# Задание: пользователь вводит имя переменной в стиле с нижними подчеркиваниями (snake_case), выведите то же имя, но в стиле camelCase.\n",
        "var_name = input(\"Введите имя переменной: \")\n",
        "#TODO\n",
        "name = var_name.split(sep = \"_\")\n",
        "part_0 = name[0]\n",
        "part_1 = \"\"\n",
        "for w in name[1:]:\n",
        "    part_1 += w.capitalize()\n",
        "\n",
        "merged = part_0 + part_1\n",
        "print(merged)"
      ],
      "metadata": {
        "id": "xJKS5EK7lXmj",
        "colab": {
          "base_uri": "https://localhost:8080/"
        },
        "outputId": "7774ed33-5726-4d23-d66c-c8c5e15db143"
      },
      "execution_count": null,
      "outputs": [
        {
          "output_type": "stream",
          "name": "stdout",
          "text": [
            "Введите имя переменной: snake_case_case_case\n",
            "snakeCaseCaseCase\n"
          ]
        }
      ]
    },
    {
      "cell_type": "markdown",
      "source": [
        "Очень полезная и часто используемый итератор `range(start, stop, step)`:"
      ],
      "metadata": {
        "id": "MNXtXPvm_Qz0"
      }
    },
    {
      "cell_type": "code",
      "source": [
        "for i in range(1, 11, 2):\n",
        "    print(i, end=' ')"
      ],
      "metadata": {
        "colab": {
          "base_uri": "https://localhost:8080/"
        },
        "id": "j1xfBMWg_ycQ",
        "outputId": "fe56ec85-531b-4984-9b2c-e2a0cc440656"
      },
      "execution_count": null,
      "outputs": [
        {
          "output_type": "stream",
          "name": "stdout",
          "text": [
            "1 3 5 7 9 "
          ]
        }
      ]
    },
    {
      "cell_type": "code",
      "source": [
        "# range() с отрицательным шагом\n",
        "for i in range(11, 1, -2):\n",
        "    print(i, end=' ')"
      ],
      "metadata": {
        "colab": {
          "base_uri": "https://localhost:8080/"
        },
        "id": "tI3hvfs-cWa5",
        "outputId": "9e80327e-98a8-4e31-dbd4-1f79c37cc211"
      },
      "execution_count": null,
      "outputs": [
        {
          "output_type": "stream",
          "name": "stdout",
          "text": [
            "11 9 7 5 3 "
          ]
        }
      ]
    },
    {
      "cell_type": "code",
      "source": [
        "# Задание: для заданной строки выведите каждую третью букву на одной строке без пробелов.\n",
        "line = 'грбопилинхдгепо'\n",
        "#TODO\n",
        "length = len(line)\n",
        "for i in range(2, length, 3):\n",
        "    print(line[i], end = \"\")"
      ],
      "metadata": {
        "id": "7v1pkgUOANvR",
        "colab": {
          "base_uri": "https://localhost:8080/"
        },
        "outputId": "53f7fc8a-b1d9-4f46-8686-9ace9534656d"
      },
      "execution_count": null,
      "outputs": [
        {
          "output_type": "stream",
          "name": "stdout",
          "text": [
            "бинго"
          ]
        }
      ]
    },
    {
      "cell_type": "code",
      "source": [
        "letters = \"\"\n",
        "for i in range(2, len(line), 3):\n",
        "    letters += line[i]\n",
        "print(letters)"
      ],
      "metadata": {
        "colab": {
          "base_uri": "https://localhost:8080/"
        },
        "id": "-vZv2wkm7LQk",
        "outputId": "ad13db50-1610-4827-e0a0-0c4e9489dec5"
      },
      "execution_count": null,
      "outputs": [
        {
          "output_type": "stream",
          "name": "stdout",
          "text": [
            "бинго\n"
          ]
        }
      ]
    },
    {
      "cell_type": "markdown",
      "source": [
        "Другая полезная встроенная функция -- `enumerate(iterable, start)`:"
      ],
      "metadata": {
        "id": "0bDRM0H8dpgL"
      }
    },
    {
      "cell_type": "code",
      "source": [
        "programmming = [\"Python\", \"Programmming\", \"Is\", \"Fun\"]\n",
        "print(list(enumerate(programmming)))\n",
        "print(list(enumerate(programmming, 5)))\n",
        "print(list(enumerate(programmming, 5))[1])"
      ],
      "metadata": {
        "id": "xjKu1vmNdr77",
        "colab": {
          "base_uri": "https://localhost:8080/"
        },
        "outputId": "3f3088e7-f19e-42ff-9a25-69d07b3f7dac"
      },
      "execution_count": null,
      "outputs": [
        {
          "output_type": "stream",
          "name": "stdout",
          "text": [
            "[(0, 'Python'), (1, 'Programmming'), (2, 'Is'), (3, 'Fun')]\n",
            "[(5, 'Python'), (6, 'Programmming'), (7, 'Is'), (8, 'Fun')]\n",
            "(6, 'Programmming')\n"
          ]
        }
      ]
    },
    {
      "cell_type": "code",
      "source": [
        "my_list = ['red', 'red', 'green', 'blue', 'red']\n",
        "bool_list = [True] * len(my_list)\n",
        "\n",
        "for i, col in enumerate(my_list):\n",
        "    if col != 'red':\n",
        "        bool_list[i] = False\n",
        "bool_list"
      ],
      "metadata": {
        "colab": {
          "base_uri": "https://localhost:8080/"
        },
        "id": "1wdKik3y7toN",
        "outputId": "e158d9c1-faf7-4557-ef35-db014ea7ca92"
      },
      "execution_count": null,
      "outputs": [
        {
          "output_type": "execute_result",
          "data": {
            "text/plain": [
              "[True, True, False, False, True]"
            ]
          },
          "metadata": {},
          "execution_count": 24
        }
      ]
    },
    {
      "cell_type": "code",
      "source": [
        "for i, col in enumerate(my_list, 12):\n",
        "    if i % 4 == 0:\n",
        "        #print(i % 4)\n",
        "        print(i, col)"
      ],
      "metadata": {
        "colab": {
          "base_uri": "https://localhost:8080/"
        },
        "id": "e7xisNoT8meT",
        "outputId": "7781407a-920b-4a60-c2cc-6795435e5c89"
      },
      "execution_count": null,
      "outputs": [
        {
          "output_type": "stream",
          "name": "stdout",
          "text": [
            "12 red\n",
            "16 red\n"
          ]
        }
      ]
    },
    {
      "cell_type": "code",
      "source": [
        "# Задание: пользователь вводит имя переменной в стиле camelCaseCase, выведите то же имя, но в стиле snake_case_case.\n",
        "var_name = input(\"Введите имя переменной: \")\n",
        "#TODO\n",
        "my_word = \"\"\n",
        "for i, l in enumerate(var_name):\n",
        "    if l.isupper() == True:\n",
        "        print(i, my_word)\n",
        "        my_word = my_word + \"_\" + l.lower()\n",
        "    else:\n",
        "        print(i, my_word)\n",
        "        my_word = my_word + l\n",
        "print('\\n', my_word.strip(\"_\"))"
      ],
      "metadata": {
        "id": "Cw6KyACVHqUe",
        "colab": {
          "base_uri": "https://localhost:8080/"
        },
        "outputId": "a65cc7bf-e70a-4060-83d4-048fd8d417ae"
      },
      "execution_count": null,
      "outputs": [
        {
          "output_type": "stream",
          "name": "stdout",
          "text": [
            "Введите имя переменной: camelCaseCaseCase\n",
            "0 \n",
            "1 c\n",
            "2 ca\n",
            "3 cam\n",
            "4 came\n",
            "5 camel\n",
            "6 camel_c\n",
            "7 camel_ca\n",
            "8 camel_cas\n",
            "9 camel_case\n",
            "10 camel_case_c\n",
            "11 camel_case_ca\n",
            "12 camel_case_cas\n",
            "13 camel_case_case\n",
            "14 camel_case_case_c\n",
            "15 camel_case_case_ca\n",
            "16 camel_case_case_cas\n",
            "\n",
            " camel_case_case_case\n"
          ]
        }
      ]
    },
    {
      "cell_type": "code",
      "source": [
        "var_name = input(\"Введите имя переменной: \")\n",
        "\n",
        "uppers = list(ascii_uppercase)\n",
        "new_var_name = var_name\n",
        "\n",
        "for c in new_var_name:\n",
        "    if c in uppers:\n",
        "        print(new_var_name)\n",
        "        new_var_name = new_var_name.replace(c, '_' + c.lower())\n",
        "\n",
        "print('\\n', new_var_name)"
      ],
      "metadata": {
        "colab": {
          "base_uri": "https://localhost:8080/"
        },
        "id": "2b1uXeeg-A51",
        "outputId": "69a44514-58cb-4362-f9a4-4c664252c283"
      },
      "execution_count": null,
      "outputs": [
        {
          "output_type": "stream",
          "name": "stdout",
          "text": [
            "Введите имя переменной: camelCaseKaseLase\n",
            "camelCaseKaseLase\n",
            "camel_caseKaseLase\n",
            "camel_case_kaseLase\n",
            "\n",
            " camel_case_kase_lase\n"
          ]
        }
      ]
    },
    {
      "cell_type": "code",
      "source": [],
      "metadata": {
        "id": "uSXoHkRvCRPN"
      },
      "execution_count": null,
      "outputs": []
    }
  ]
}