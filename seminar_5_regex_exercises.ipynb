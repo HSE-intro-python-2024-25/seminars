{
  "nbformat": 4,
  "nbformat_minor": 0,
  "metadata": {
    "colab": {
      "provenance": []
    },
    "kernelspec": {
      "name": "python3",
      "display_name": "Python 3"
    },
    "language_info": {
      "name": "python"
    }
  },
  "cells": [
    {
      "cell_type": "code",
      "source": [
        "import re"
      ],
      "metadata": {
        "id": "TKN4GJ8Jafa6"
      },
      "execution_count": null,
      "outputs": []
    },
    {
      "cell_type": "markdown",
      "source": [
        "## Упражнение #1\n",
        "\n",
        "В файле text_1.txt находится информация о статьях в стиле bibtex. Нас интересуют авторы (authors=...). Для каждой статьи из строки про авторов нужно получить список очищенных полных имен (без пробелов, функциональных слов и открывающих и закрывающих фигурных скобок)."
      ],
      "metadata": {
        "id": "gmR3bZiA_P6J"
      }
    },
    {
      "cell_type": "code",
      "source": [
        "with open(\"text_1.txt\", \"r\", encoding=\"utf-8\") as file:\n",
        "    text = file.read()"
      ],
      "metadata": {
        "id": "ALGYHDV59QXS"
      },
      "execution_count": null,
      "outputs": []
    },
    {
      "cell_type": "code",
      "source": [
        "# TODO\n",
        "pattern = \"author={(.+)}\"\n",
        "my_list = re.findall(pattern, text)\n",
        "\n",
        "all_names = []\n",
        "for i in my_list:\n",
        "    names = i.split(' and ')\n",
        "    all_names.append(names)\n",
        "all_names"
      ],
      "metadata": {
        "id": "hAiDhEotDHYG",
        "colab": {
          "base_uri": "https://localhost:8080/"
        },
        "outputId": "4813802b-0fa6-4d65-bcac-743567a1c060"
      },
      "execution_count": null,
      "outputs": [
        {
          "output_type": "execute_result",
          "data": {
            "text/plain": [
              "[['Diaz, Navarro David', 'Gines, Rodriguez Noe'],\n",
              " ['Standefer, Michael', 'Bay, Janet W', 'Trusso, Russell'],\n",
              " ['GenTSCH, JoN R',\n",
              "  'Glass, RI',\n",
              "  'Woods, P',\n",
              "  'Gouvea, V',\n",
              "  'Gorziglia, M',\n",
              "  'Flores, J',\n",
              "  'Das, BK',\n",
              "  'Bhan, MK'],\n",
              " ['Arellano-Baeza, A', 'Zverev, A', 'Malinnikov, V'],\n",
              " ['Kordesch, Karl', 'Simader, G{\\\\\"u}nter', 'Wiley, John'],\n",
              " ['Trainor, Sarah F',\n",
              "  'Calef, Monika',\n",
              "  'Natcher, David',\n",
              "  'Chapin, F Stuart',\n",
              "  'McGuire, A David',\n",
              "  'Huntington, Orville',\n",
              "  'Duffy, Paul',\n",
              "  'Rupp, T Scott',\n",
              "  \"DeWilde, La'Ona\",\n",
              "  'Kwart, Mary',\n",
              "  'others']]"
            ]
          },
          "metadata": {},
          "execution_count": 8
        }
      ]
    },
    {
      "cell_type": "markdown",
      "source": [
        "## Упражнение # 2\n",
        "\n",
        "Написать регулярное выражение для вытаскивания фамилий и инициалов авторов статей и книг из файла text_2.txt"
      ],
      "metadata": {
        "id": "zg-z76XkcFgL"
      }
    },
    {
      "cell_type": "code",
      "source": [
        "with open(\"text_2.txt\", \"r\", encoding=\"utf-8\") as file:\n",
        "    text = file.read()"
      ],
      "metadata": {
        "id": "EgjcQTunat1f"
      },
      "execution_count": null,
      "outputs": []
    },
    {
      "cell_type": "code",
      "source": [
        "# TODO\n",
        "pattern2 = r\"\\d\\.(.+?\\.):\"\n",
        "my_list = re.findall(pattern2, text)\n",
        "my_list\n",
        "\n",
        "#all_names2 = []\n",
        "#for i in my_list:\n",
        "#  print(i.split(\"(?<=\\.),\\s\"))\n",
        "  #names = i.split(\"(?<=\\.,\\s\")\n",
        "#  all_names.append(names)\n",
        "#all_names\n"
      ],
      "metadata": {
        "id": "2U-hSdpNa2Yh",
        "colab": {
          "base_uri": "https://localhost:8080/"
        },
        "outputId": "5d3a0c59-7cff-4101-8ccb-ce0ab5a7b869"
      },
      "execution_count": null,
      "outputs": [
        {
          "output_type": "execute_result",
          "data": {
            "text/plain": [
              "[' Spalding, K.L., Buchholz, B.A., Bergman, L.E., Druid, H., Frisén, J.',\n",
              " ' Lovecraft, H.P.',\n",
              " ' Duncan, R.',\n",
              " ' Santos, N., Hoshino, Y.',\n",
              " ' DIARRHOEA, R.',\n",
              " ' Barton, T.',\n",
              " ' Gauquelin, M.',\n",
              " ' Hoshino, Y., Sereno, M.M., Midthun, K., Flores, J., Kapikian, A.Z., Chanock, R.M.',\n",
              " ' Healy, J., Hayden, C., Xie, T., Olson, K., Waldo, R., Brundage, M., Gasteiger, H., Abbott, J.',\n",
              " ' Lovecraft, H.P.',\n",
              " ' Socco, L., Strobbia, C., Sambuelli, L., Foti, S.',\n",
              " ' Lovecraft, H.P., Turner, J.',\n",
              " ' Alighieri, D.',\n",
              " ' Cumont, F.V.M.',\n",
              " ' McClatchey, R.A., Fenn, R., Selby, J.A., Volz, F., Garing, J.',\n",
              " ' GenTSCH, J.R., Glass, R., Woods, P., Gouvea, V., Gorziglia, M., Flores, J., Das, B., Bhan, M.',\n",
              " ' Murphy, T.V., Gargiullo, P.M., Massoudi, M.S., Nelson, D.B., Jumaan, A.O., Okoro, C.A., Zanardi, L.R., Setia, S., Fair, E., LeBaron, C.W., et al.',\n",
              " ' Delmay, B.',\n",
              " ' Kurucz, R.',\n",
              " ' Cambridge, Mass.',\n",
              " ' Andrewes, D.G., Holton, J.R., Leovy, C.B.',\n",
              " ' Welch, T.A.',\n",
              " ' Alighieri, D., Landino, C., da Figino, P., Capcasa, M.',\n",
              " ' Tester, S.J.',\n",
              " ' Craig, H., Gordon, L.I.']"
            ]
          },
          "metadata": {},
          "execution_count": 22
        }
      ]
    },
    {
      "cell_type": "code",
      "source": [
        "pattern = '\\w+\\,\\s[A-Z]{1} | \\w+\\,\\s[A-Z]{1}\\W[A-Z]? | \\w+\\,\\s[A-Z]{1}\\W[A-Z]{1}\\W[A-Z]?'\n",
        "#'\\w+\\,\\s[A-Z]{1}\\W[A-Z]?\\.*\\s*[A-Z]*\\.*'\n",
        "my_list = re.findall(pattern, text)\n",
        "my_list\n",
        "\n",
        "#all_names = []\n",
        "#for elem in match:\n",
        "#  elem.casefold()\n",
        "#  names = elem.split(' and ')\n",
        "#  all_names.append(names)\n",
        "#print(all_names)"
      ],
      "metadata": {
        "colab": {
          "base_uri": "https://localhost:8080/"
        },
        "id": "JAiiPy1xAN1a",
        "outputId": "a16b9c52-eff7-48d3-a5cc-fe3b03107877"
      },
      "execution_count": null,
      "outputs": [
        {
          "output_type": "execute_result",
          "data": {
            "text/plain": [
              "[' Spalding, K.L.',\n",
              " ' Buchholz, B.A.',\n",
              " ' Bergman, L.E.',\n",
              " ' Lovecraft, H.P.',\n",
              " ' Sereno, M.M.',\n",
              " ' Kapikian, A.Z.',\n",
              " ' Chanock, R.M.',\n",
              " ' Lovecraft, H.P.',\n",
              " ' Lovecraft, H.P.',\n",
              " ' Cumont, F.V.M',\n",
              " ' McClatchey, R.A.',\n",
              " ' Selby, J.A.',\n",
              " ' GenTSCH, J.R.',\n",
              " ' Murphy, T.V.',\n",
              " ' Gargiullo, P.M.',\n",
              " ' Massoudi, M.S.',\n",
              " ' Nelson, D.B.',\n",
              " ' Jumaan, A.O.',\n",
              " ' Okoro, C.A.',\n",
              " ' Zanardi, L.R.',\n",
              " ' LeBaron, C.W.',\n",
              " ' Andrewes, D.G.',\n",
              " ' Holton, J.R.',\n",
              " ' Leovy, C.B.',\n",
              " ' Welch, T.A.',\n",
              " ' Tester, S.J.',\n",
              " ' Gordon, L.I.']"
            ]
          },
          "metadata": {},
          "execution_count": 26
        }
      ]
    },
    {
      "cell_type": "markdown",
      "source": [
        "## Упражнение # 3\n",
        "\n",
        "Дана некоторая html страница -- text_3.html. Из нее нужно вытащить контент всех хедеров. Хедеры задаются открывающим тегом \\<h1> и закрывающим \\<\\h1>. Бывают хедеры уровней 2, 3, 4 и т.д. Нам нужны они все :)"
      ],
      "metadata": {
        "id": "G9PqBdSliNQp"
      }
    },
    {
      "cell_type": "code",
      "source": [
        "with open(\"text_3.html\", \"r\", encoding=\"utf-8\") as file:\n",
        "    text = file.read()"
      ],
      "metadata": {
        "id": "h3DiqnCCiWJy"
      },
      "execution_count": null,
      "outputs": []
    },
    {
      "cell_type": "code",
      "source": [
        "# TODO\n",
        "pattern3 = \"<h\\d>(.*)</h\\d>\"\n",
        "my_list3 = re.findall(pattern3, text)\n",
        "print(my_list3)"
      ],
      "metadata": {
        "id": "8ITcXAajibV4",
        "colab": {
          "base_uri": "https://localhost:8080/"
        },
        "outputId": "d93c1576-6a42-491d-d4a5-0508bfdc2e89"
      },
      "execution_count": null,
      "outputs": [
        {
          "output_type": "stream",
          "name": "stdout",
          "text": [
            "['<span class=\"editsection\">[<a href=\"/w/index.php?title=Roma&amp;action=edit&amp;section=72\" title=\"Modifica la sezione Galleria fotografica\">modifica</a>]</span> <span class=\"mw-headline\" id=\"Galleria_fotografica\">Galleria fotografica</span>', '<a href=\"http://totaltech.it/?ref=libero&amp;id=VTOTECH_41785\" onclick=\"return TSckSrv(this,\\'1052\\',\\'Stories-1052\\',\\'0-tit\\',\\'http://aranzulla.tecnologia.virgilio.it/fax-on-line-41785.html\\',\\'M\\')\">Inviare e ricevere fax su Internet</a>', 'in 6 <strong><span style=\"color: rgb(153, 0, 0);\">cd </span></strong>e <strong><span style=\"color: rgb(153, 0, 0);\">live inedito</span></strong>', '<a href=\"http://www.repubblica.it/cronaca/2013/12/20/news/serial_killer_in_fuga_cancellieri_in_parlamento-74089064/\" target=\"_self\" title=\"\">Catturati i due killer evasi</a>', ' <span class=\"mw-headline\" id=\"Scienze_matematiche.2C_fisiche_e_naturali\">Scienze matematiche, fisiche e naturali</span>', '<a href=\"http://totaltech.it/?ref=libero&amp;id=VTOTECH_41785\" onclick=\"return TSckSrv(this,\\'1052\\',\\'Stories-1052\\',\\'0-tit\\',\\'http://aranzulla.tecnologia.virgilio.it/fax-on-line-41785.html\\',\\'M\\')\">Inviare e ricevere fax su Internet</a>', '<a href=\"http://video.repubblica.it/spettacoli-e-cultura/intervista-fonzie-senza-riconoscerlo-la-gaffe-del-giornalista-bbc/150682/149187\">BBC intervista Fonzie e non lo sa</a> ', 'Strumenti', '<span class=\"editsection\">[<a href=\"/w/index.php?title=Napoli&amp;action=edit&amp;section=59\" title=\"Modifica la sezione Televisione\">modifica</a>]</span> <span class=\"mw-headline\" id=\"Televisione\">Televisione</span>', 'Contents', '<a href=\"http://www.repubblica.it/spettacoli/cinema/2013/10/16/news/rcinema_i_film_pi_belli_e_da_oggi_il_tablet_diventa_grande_schermo-68700581/\" target=\"_self\" title=\"\">RCinema-Cubovision<br>i film top sul tablet</a><a href=\"http://video.repubblica.it/rubriche/rnews/rnews-i-grandi-film-gratis-su-repubblica-tablet/143142/141677\">/ video</a><a href=\"http://www.repubblica.it/spettacoli/cinema/2013/10/16/news/rcinema_i_film_pi_belli_e_da_oggi_il_tablet_diventa_grande_schermo-68700581/\" target=\"_self\" title=\"\"> </a>', '<a href=\"http://www.repubblica.it/esteri/2013/12/20/news/russia_cremlino_putin_ha_firmato_la_grazia_per_khodorkovski-74089394/\" target=\"_self\" title=\"\"></a><a href=\"http://video.repubblica.it/mondo/khodorkovsky-libero-del-re-putin-vuole-rifarsi-limmagine/150799/149304\"><strong>Rep Tv</strong> Del Re: \"Lo zar<br>vuole rifarsi l\\'immagine\"</a><a href=\"http://www.repubblica.it/esteri/2013/12/20/news/russia_cremlino_putin_ha_firmato_la_grazia_per_khodorkovski-74089394/\" target=\"_self\" title=\"\"> <br>L\\'ex oligarca russo ha \\'ceduto\\' <br>dopo 10 anni di carcere</a>', '<a href=\"http://www.repubblica.it/economia/2013/12/20/news/telecom_all_assemblea_della_verit_tra_accuse_dei_pm_e_revoca_del_cda-74091781/\" target=\"_self\" title=\"\">Magistrati al lavoro su ipotesi patto occulto <br>dietro l\\'operazione con Telco / </a><a href=\"http://www.repubblica.it/economia/2013/12/20/news/diretta_twitter_assemblea_telecom-74039302/\"><strong>Diretta twitter</strong></a><a href=\"http://www.repubblica.it/economia/2013/12/20/news/telecom_all_assemblea_della_verit_tra_accuse_dei_pm_e_revoca_del_cda-74091781/\" target=\"_self\" title=\"\"> </a>', '<a href=\"http://www.staibene.it/?tx_ebpannellone_pi1[libero]=terzo&amp;cHash=19defd591ba2e1e41e94a89ba56d4e35\" onclick=\"return TSckSrv(this,\\'650\\',\\'Stories-650\\',\\'0-tit\\',\\'http://www.staibene.it/?tx_ebpannellone_pi1[libero]=terzo&amp;cHash=19defd591ba2e1e41e94a89ba56d4e35\\',\\'M\\')\">Che rapporto hai con i tuoi?</a>', ' <span class=\"mw-headline\" id=\"Altre_scienze\">Altre scienze</span>', '<a href=\"http://www.affaritaliani.it/\" onclick=\"return TSckSrv(this,\\'1\\',\\'Stories-1\\',\\'0-tit\\',\\'http://www.affaritaliani.it/economia/come-trovare-lavoro-2014201213.html\\',\\'\\')\">Ecco come trovare lavoro nel 2014</a>', 'in 5 <strong><span style=\"color: rgb(153, 0, 0);\">cd </span></strong>+ libretto inedito', '<a href=\"http://d.repubblica.it/\">Video tutorial: il make up furbo per le feste</a>', ' <span class=\"mw-headline\" id=\"Teatro\">Teatro</span>', '<span class=\"editsection\">[<a href=\"/w/index.php?title=Torino&amp;action=edit&amp;section=87\" title=\"Modifica la sezione Voci correlate\">modifica</a>]</span> <span class=\"mw-headline\" id=\"Voci_correlate\">Voci correlate</span>', '<a href=\"http://www.repubblica.it/spettacoli/cinema/2013/12/19/news/paolo_virz_il_capitale_umano-74047584/\" target=\"_self\" title=\"\"></a><a href=\"http://video.repubblica.it/rubriche/rnews/rnews-virzi-io-woody-e-zalone-cuoriosi-dei-ricchi-di-oggi/150732/149237\"><strong>Videointervista </strong></a><a href=\"http://www.repubblica.it/spettacoli/cinema/2013/12/19/news/paolo_virz_il_capitale_umano-74047584/\" target=\"_self\" title=\"\"> - </a><a href=\"http://video.repubblica.it/spettacoli-e-cultura/il-capitale-umano-di-paolo-virzi-ecco-litalia-ricca-e-infelice/150737/149242\"><strong>Trailer </strong></a><a href=\"http://www.repubblica.it/spettacoli/cinema/2013/12/19/news/paolo_virz_il_capitale_umano-74047584/\" target=\"_self\" title=\"\"> - </a><a href=\"http://trovacinema.repubblica.it/film/fotogallery/il-capitale-umano/432917\"><strong>Foto<br></strong></a><a href=\"http://www.repubblica.it/spettacoli/cinema/2013/12/19/news/paolo_virz_il_capitale_umano-74047584/\" target=\"_self\" title=\"\"> </a>', '<span class=\"editsection\">[<a href=\"/w/index.php?title=Torino&amp;action=edit&amp;section=68\" title=\"Modifica la sezione Ciclismo\">modifica</a>]</span> <span class=\"mw-headline\" id=\"Ciclismo\">Ciclismo</span>', '<span>Azioni</span><a href=\"#\"></a>']\n"
          ]
        }
      ]
    },
    {
      "cell_type": "code",
      "source": [
        "len(my_list3)"
      ],
      "metadata": {
        "colab": {
          "base_uri": "https://localhost:8080/"
        },
        "id": "YJf1ufZEMpYt",
        "outputId": "c4ec1c2b-1654-439e-8aa5-f38c3652f978"
      },
      "execution_count": null,
      "outputs": [
        {
          "output_type": "execute_result",
          "data": {
            "text/plain": [
              "23"
            ]
          },
          "metadata": {},
          "execution_count": 36
        }
      ]
    },
    {
      "cell_type": "code",
      "source": [
        "pattern3 = r'<h\\d>.*title=\"(.*?)\".*</h\\d>'\n",
        "my_list3 = re.findall(pattern3, text)\n",
        "\n",
        "for i in my_list3:\n",
        "  print(i)"
      ],
      "metadata": {
        "colab": {
          "base_uri": "https://localhost:8080/"
        },
        "id": "RiYu3eCfMATx",
        "outputId": "09445e65-2fce-4502-8f45-0c6649faa389"
      },
      "execution_count": null,
      "outputs": [
        {
          "output_type": "stream",
          "name": "stdout",
          "text": [
            "Modifica la sezione Galleria fotografica\n",
            "\n",
            "Modifica la sezione Televisione\n",
            "\n",
            "\n",
            "\n",
            "Modifica la sezione Voci correlate\n",
            "\n",
            "Modifica la sezione Ciclismo\n"
          ]
        }
      ]
    },
    {
      "cell_type": "code",
      "source": [
        "len(my_list3)"
      ],
      "metadata": {
        "colab": {
          "base_uri": "https://localhost:8080/"
        },
        "id": "7cuaH2nTMkcb",
        "outputId": "07b309c6-88f8-4bf5-9f22-25b1138a5c84"
      },
      "execution_count": null,
      "outputs": [
        {
          "output_type": "execute_result",
          "data": {
            "text/plain": [
              "(9,)"
            ]
          },
          "metadata": {},
          "execution_count": 38
        }
      ]
    },
    {
      "cell_type": "markdown",
      "source": [
        "Теперь из списка с хедерами нужно вытащить заголовки (title=...)."
      ],
      "metadata": {
        "id": "nBpnBo1W9C2G"
      }
    },
    {
      "cell_type": "code",
      "source": [
        "# TODO\n",
        "pattern = 'title=\"(\\w)\"\n"
      ],
      "metadata": {
        "id": "La2vqCgv84MD"
      },
      "execution_count": null,
      "outputs": []
    },
    {
      "cell_type": "markdown",
      "source": [
        "## Упражнение # 4\n",
        "\n",
        "Дана строка, содержащая имена, никнеймы, номера телефонов и имейлы пользователей твиттера. Нужно получить словарь, в качестве ключей содержащий никнеймы, а в качестве значений -- словари с данными соответствующего пользователя:\n",
        "```\n",
        "\"@ivashka666\": {\n",
        "    \"name\": \"Ivan Ivanov\",\n",
        "    \"phone\": \"123-123-123\",\n",
        "    \"email\": \"ivashka@yahoo.com\",\n",
        "}\n",
        "```"
      ],
      "metadata": {
        "id": "-mcbO6AuI3aj"
      }
    },
    {
      "cell_type": "code",
      "source": [
        "string = '''Love, Kenneth, kenneth+challenge@teamtreehouse.com, 555-555-5555, @kennethlove\n",
        "Chalkley, Andrew, andrew@teamtreehouse.co.uk, 555-555-5556, @chalkers\n",
        "McFarland, Dave, dave.mcfarland@teamtreehouse.com, 555-555-5557, @davemcfarland\n",
        "Kesten, Joy, joy@teamtreehouse.com, 555-555-5558, @joykesten'''"
      ],
      "metadata": {
        "id": "k6EH89PhJB-B"
      },
      "execution_count": null,
      "outputs": []
    },
    {
      "cell_type": "code",
      "source": [
        "string"
      ],
      "metadata": {
        "colab": {
          "base_uri": "https://localhost:8080/",
          "height": 70
        },
        "id": "f91rYWEsORBY",
        "outputId": "37439ebd-16a4-43c0-cab0-1bbd516ec152"
      },
      "execution_count": null,
      "outputs": [
        {
          "output_type": "execute_result",
          "data": {
            "text/plain": [
              "'Love, Kenneth, kenneth+challenge@teamtreehouse.com, 555-555-5555, @kennethlove\\nChalkley, Andrew, andrew@teamtreehouse.co.uk, 555-555-5556, @chalkers\\nMcFarland, Dave, dave.mcfarland@teamtreehouse.com, 555-555-5557, @davemcfarland\\nKesten, Joy, joy@teamtreehouse.com, 555-555-5558, @joykesten'"
            ],
            "application/vnd.google.colaboratory.intrinsic+json": {
              "type": "string"
            }
          },
          "metadata": {},
          "execution_count": 40
        }
      ]
    },
    {
      "cell_type": "code",
      "source": [
        "print(string)"
      ],
      "metadata": {
        "colab": {
          "base_uri": "https://localhost:8080/"
        },
        "id": "ARkAotA1JqKm",
        "outputId": "b151240f-866b-46ff-835c-7c374286d792"
      },
      "execution_count": null,
      "outputs": [
        {
          "output_type": "stream",
          "name": "stdout",
          "text": [
            "Love, Kenneth, kenneth+challenge@teamtreehouse.com, 555-555-5555, @kennethlove\n",
            "Chalkley, Andrew, andrew@teamtreehouse.co.uk, 555-555-5556, @chalkers\n",
            "McFarland, Dave, dave.mcfarland@teamtreehouse.com, 555-555-5557, @davemcfarland\n",
            "Kesten, Joy, joy@teamtreehouse.com, 555-555-5558, @joykesten\n"
          ]
        }
      ]
    },
    {
      "cell_type": "code",
      "source": [
        "# TODO\n",
        "pat_name = '\\w+\\,\\s[A-z]+'\n",
        "pat_mail = '[a-zA-Z0-9_.+-]+@[a-zA-Z0-9-]+\\.[a-zA-Z0-9-.]+'\n",
        "pat_num = '[0-9]+\\-+[0-9]+\\-+[0-9]+' # \\d*\\D?\\d\n",
        "pat_handle = '\\s+(@[a-zA-Z0-9-]+)' # \\s(@\\.*)\n",
        "name = re.findall(pat_name, string)\n",
        "mail = re.findall(pat_mail, string)\n",
        "num = re.findall(pat_num, string)\n",
        "handle = re.findall(pat_handle, string)"
      ],
      "metadata": {
        "id": "Ou3COzSvFvvH"
      },
      "execution_count": null,
      "outputs": []
    },
    {
      "cell_type": "code",
      "source": [
        "users = {}\n",
        "for username, n, phone, email in zip(handle, name, num, mail):\n",
        "    users[username] = {\n",
        "        'name': n,\n",
        "        'phone': phone,\n",
        "        'email': email\n",
        "    }\n",
        "\n",
        "users"
      ],
      "metadata": {
        "colab": {
          "base_uri": "https://localhost:8080/"
        },
        "id": "K8hFmb4sTjfa",
        "outputId": "1984be5f-8fa5-4634-a67c-e8d18fa99e01"
      },
      "execution_count": null,
      "outputs": [
        {
          "output_type": "execute_result",
          "data": {
            "text/plain": [
              "{'@kennethlove': {'name': 'Love, Kenneth',\n",
              "  'phone': '555-555-5555',\n",
              "  'email': 'kenneth+challenge@teamtreehouse.com'},\n",
              " '@chalkers': {'name': 'Chalkley, Andrew',\n",
              "  'phone': '555-555-5556',\n",
              "  'email': 'andrew@teamtreehouse.co.uk'},\n",
              " '@davemcfarland': {'name': 'McFarland, Dave',\n",
              "  'phone': '555-555-5557',\n",
              "  'email': 'dave.mcfarland@teamtreehouse.com'},\n",
              " '@joykesten': {'name': 'Kesten, Joy',\n",
              "  'phone': '555-555-5558',\n",
              "  'email': 'joy@teamtreehouse.com'}}"
            ]
          },
          "metadata": {},
          "execution_count": 57
        }
      ]
    },
    {
      "cell_type": "code",
      "source": [
        "users = {}\n",
        "for i, n in enumerate(handle):\n",
        "    d = {\n",
        "        'name': name[i],\n",
        "        'phone': num[i],\n",
        "        'email': mail[i]\n",
        "    }\n",
        "    users[n] = d\n",
        "\n",
        "for item in users.items():\n",
        "    print(item)"
      ],
      "metadata": {
        "colab": {
          "base_uri": "https://localhost:8080/"
        },
        "id": "80c34KX_QbTa",
        "outputId": "e1f5098c-2cd6-4405-82fa-40a8c03f2503"
      },
      "execution_count": null,
      "outputs": [
        {
          "output_type": "stream",
          "name": "stdout",
          "text": [
            "('@kennethlove', {'name': 'Love, Kenneth', 'phone': '555-555-5555', 'email': 'kenneth+challenge@teamtreehouse.com'})\n",
            "('@chalkers', {'name': 'Chalkley, Andrew', 'phone': '555-555-5556', 'email': 'andrew@teamtreehouse.co.uk'})\n",
            "('@davemcfarland', {'name': 'McFarland, Dave', 'phone': '555-555-5557', 'email': 'dave.mcfarland@teamtreehouse.com'})\n",
            "('@joykesten', {'name': 'Kesten, Joy', 'phone': '555-555-5558', 'email': 'joy@teamtreehouse.com'})\n"
          ]
        }
      ]
    },
    {
      "cell_type": "code",
      "source": [
        "PATTERN = \"(?P<surname>\\w+),\\s(?P<name>\\w+)\\,\\s(?P<email>.+@teamtreehouse\\.(com\\.)|(co\\.ul\\.))\\,\\s(?P<number>\\d{3}-\\d{3}-\\d{4})\\,\\s(?P<nickname>@\\w+)\"\n",
        "\n",
        "re.findall(PATTERN, string)"
      ],
      "metadata": {
        "colab": {
          "base_uri": "https://localhost:8080/"
        },
        "id": "j6wLlKXAQd10",
        "outputId": "1b38de28-8a4e-4a93-f8fd-43504e3852ff"
      },
      "execution_count": null,
      "outputs": [
        {
          "output_type": "execute_result",
          "data": {
            "text/plain": [
              "[]"
            ]
          },
          "metadata": {},
          "execution_count": 53
        }
      ]
    },
    {
      "cell_type": "code",
      "source": [],
      "metadata": {
        "id": "SgCsoe4LRy1I"
      },
      "execution_count": null,
      "outputs": []
    }
  ]
}