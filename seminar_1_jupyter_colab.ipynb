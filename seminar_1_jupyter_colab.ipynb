{
  "nbformat": 4,
  "nbformat_minor": 0,
  "metadata": {
    "colab": {
      "provenance": []
    },
    "kernelspec": {
      "name": "python3",
      "display_name": "Python 3"
    },
    "language_info": {
      "name": "python"
    }
  },
  "cells": [
    {
      "cell_type": "markdown",
      "source": [
        "# Jyputer notebook и google colab"
      ],
      "metadata": {
        "id": "Kne3mMrtndwO"
      }
    },
    {
      "cell_type": "code",
      "source": [
        "x = 1\n",
        "x"
      ],
      "metadata": {
        "colab": {
          "base_uri": "https://localhost:8080/"
        },
        "id": "KDxvaT95HUHU",
        "outputId": "484a9a55-0439-47b6-a017-2d5510dbc3f6"
      },
      "execution_count": null,
      "outputs": [
        {
          "output_type": "execute_result",
          "data": {
            "text/plain": [
              "1"
            ]
          },
          "metadata": {},
          "execution_count": 2
        }
      ]
    },
    {
      "cell_type": "markdown",
      "source": [
        "Два типа ячеек: текстовые и кодовые. В текстовых можно писать текст и формулы, делать ссылки, вставлять картинки. В кодовых запускается код (можно как на питоне, так и использовать по необходимости как терминал)."
      ],
      "metadata": {
        "id": "OrFhM3QxnDZF"
      }
    },
    {
      "cell_type": "markdown",
      "source": [
        "### Текстовые ячейки\n",
        "\n",
        "Поддерживают языки разметки Markdown и HTML. Мы будем использовать первый, за гайдом -- вот [сюда](https://www.markdownguide.org/).\n",
        "\n"
      ],
      "metadata": {
        "id": "pdURrGpOnylm"
      }
    },
    {
      "cell_type": "markdown",
      "source": [
        "* Заголовки\n",
        "* Выделение **жирным**, *курсивом* или ~~зачеркиванием~~\n",
        "* Списки\n",
        "* Ссылки\n",
        "* Формулы\n",
        "\n",
        "\n"
      ],
      "metadata": {
        "id": "FLebH_2Qrygt"
      }
    },
    {
      "cell_type": "markdown",
      "source": [
        "* Картинки\n",
        "\n",
        "![картинка](https://devhumor.com/content/uploads/images/March2019/developers_projects.jpg)"
      ],
      "metadata": {
        "id": "njT7FL-srAcY"
      }
    },
    {
      "cell_type": "markdown",
      "source": [
        "* Формулы ([wiki по символам в LaTeX](https://en.wikibooks.org/wiki/LaTeX/Mathematics))\n",
        "\n",
        "$\\frac{n!}{k!(n-k)!} = \\binom{n}{k}$"
      ],
      "metadata": {
        "id": "Di_eFBU-r1D1"
      }
    },
    {
      "cell_type": "markdown",
      "source": [
        "* Таблицы ([тул для автоматической генерации таблиц](https://www.tablesgenerator.com/markdown_tables#))\n",
        "\n",
        "| тест | тест |\n",
        "|------|------|\n",
        "| тест | тест |"
      ],
      "metadata": {
        "id": "8ftz5HeFtYFm"
      }
    },
    {
      "cell_type": "markdown",
      "source": [
        "* Вставка сниппетов кода\n",
        "\n",
        "Для печати используйте `print()`\n",
        "\n",
        "```python\n",
        "x = 1\n",
        "print(x)\n",
        "```"
      ],
      "metadata": {
        "id": "eWHU6MQ3uRkI"
      }
    },
    {
      "cell_type": "markdown",
      "source": [
        "### Кодовые ячейки"
      ],
      "metadata": {
        "id": "O-nhUtDhv5Gm"
      }
    },
    {
      "cell_type": "code",
      "source": [
        "# Использование ячейки как терминала\n",
        "!ls && cd sample_data && ls"
      ],
      "metadata": {
        "colab": {
          "base_uri": "https://localhost:8080/"
        },
        "id": "43qNfz7Tv-MD",
        "outputId": "9c3f01db-4b66-42df-8f8e-82c77f9e0cc0"
      },
      "execution_count": null,
      "outputs": [
        {
          "output_type": "stream",
          "name": "stdout",
          "text": [
            "sample_data\n",
            "anscombe.json\t\t      mnist_test.csv\n",
            "california_housing_test.csv   mnist_train_small.csv\n",
            "california_housing_train.csv  README.md\n"
          ]
        }
      ]
    },
    {
      "cell_type": "code",
      "source": [
        "# Использование ячеек для питона\n",
        "def test(x):\n",
        "  print(x)"
      ],
      "metadata": {
        "id": "M2TwaZ40wQtz"
      },
      "execution_count": null,
      "outputs": []
    },
    {
      "cell_type": "code",
      "source": [
        "test(2)"
      ],
      "metadata": {
        "colab": {
          "base_uri": "https://localhost:8080/"
        },
        "id": "FRHh_Tyiwc3Q",
        "outputId": "0afb6888-5ba9-44e7-a0db-f17638254796"
      },
      "execution_count": null,
      "outputs": [
        {
          "output_type": "stream",
          "name": "stdout",
          "text": [
            "2\n"
          ]
        }
      ]
    },
    {
      "cell_type": "markdown",
      "source": [
        "## Google colab"
      ],
      "metadata": {
        "id": "7wBHFwkLmkAN"
      }
    },
    {
      "cell_type": "code",
      "execution_count": null,
      "metadata": {
        "id": "YmnLc8Yealzu"
      },
      "outputs": [],
      "source": [
        "# Интеграция с гугл диском\n",
        "from google.colab import drive\n",
        "drive.mount('/content/drive')"
      ]
    },
    {
      "cell_type": "code",
      "source": [
        "#!ls"
      ],
      "metadata": {
        "id": "Ocj4K74rs1Fr"
      },
      "execution_count": null,
      "outputs": []
    },
    {
      "cell_type": "code",
      "source": [
        "#file_id = \" \"\n",
        "#url = 'https://drive.google.com/uc?id={}'.format(file_id)"
      ],
      "metadata": {
        "id": "yaZqhE8qs6m3"
      },
      "execution_count": null,
      "outputs": []
    }
  ]
}