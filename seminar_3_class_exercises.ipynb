{
  "nbformat": 4,
  "nbformat_minor": 0,
  "metadata": {
    "colab": {
      "provenance": []
    },
    "kernelspec": {
      "name": "python3",
      "display_name": "Python 3"
    },
    "language_info": {
      "name": "python"
    }
  },
  "cells": [
    {
      "cell_type": "markdown",
      "source": [
        "# 1. Банка с печеньем 🍪🍪🍪\n",
        "\n",
        "![cookie monster](https://media.tenor.com/T9dBIEduv6EAAAAe/cookie-monster.png)"
      ],
      "metadata": {
        "id": "3GZyAxC_ktn1"
      }
    },
    {
      "cell_type": "markdown",
      "source": [
        "Нужно реализовать банку с печеньем для хранения собственно печенек Реализуйте класс Jar со следующими атрибутами:\n",
        "* `capacity` -- емкость банки.\n",
        "* `size` -- текущее количество печенек в банке.\n",
        "\n",
        "И методами:\n",
        "\n",
        "* `__init__` должен инициализировать банку с заданной емкостью (`capacity`) -- максимальное количество печенек, которые могут поместиться в банку. Емкость является неотрицательным целым числом.\n",
        "* `__str__` должен выводить строку с 🍪, где количество эмодзи отражает количество печенек в банке. Например, если в банке 3 печеньки, str должен вернуть «🍪🍪🍪».\n",
        "* `deposit` добавляет n печенек в банку. Если добавление такого количества приведет к превышению емкости банки, нужно вывести сообщение \"Емкость банки {capacity}, сейчас в ней {size} печенек -- положить в нее {n} печенек не получится\".\n",
        "* `withdraw` удаляет n печенек из банки. Ням-ням-ням. Но если в банке печенек меньше, чем нужно забрать, этот метод должен вывести сообщение нужно вывести сообщение \"Сейчас в банке {size} печенек -- забрать из нее {n} печенек не получится\".\n",
        "\n"
      ],
      "metadata": {
        "id": "7YM9hqkTlAP1"
      }
    },
    {
      "cell_type": "code",
      "execution_count": 34,
      "metadata": {
        "id": "HMUIgbNiDOFp"
      },
      "outputs": [],
      "source": [
        "class Jar:\n",
        "    def __init__(self, capacity=12):\n",
        "        self.size = 0\n",
        "        self.capacity = capacity\n",
        "\n",
        "    def __str__(self):\n",
        "        new_string = \"🍪\" * self.size\n",
        "        return new_string\n",
        "\n",
        "    def deposit(self, n):\n",
        "        if self.size + n <= self.capacity:\n",
        "            self.size = self.size + n\n",
        "        else:\n",
        "            print(\"Емкость банки {}, сейчас в ней {} печенек -- положить в нее {} печенек не получится\".format(self.capacity, self.size, n))\n",
        "\n",
        "    def withdraw(self, n):\n",
        "        if self.size - n >= 0:\n",
        "            self.size = self.size - n\n",
        "        else:\n",
        "            print(\"Сейчас в банке {} печенек -- забрать из нее {} печенек не получится\".format(self.size, n))"
      ]
    },
    {
      "cell_type": "code",
      "source": [
        "# Тест\n",
        "#def test_init():\n",
        "#    jar = Jar()\n",
        "\n",
        "\n",
        "def test_str():\n",
        "    jar = Jar()\n",
        "    assert str(jar) == \"\"\n",
        "    print(jar)\n",
        "    jar.deposit(1)\n",
        "    assert str(jar) == \"🍪\"\n",
        "    print(jar)\n",
        "    jar.deposit(11)\n",
        "    assert str(jar) == \"🍪🍪🍪🍪🍪🍪🍪🍪🍪🍪🍪🍪\"\n",
        "    print(jar)\n",
        "\n",
        "\n",
        "def test_deposit():\n",
        "    jar = Jar()\n",
        "    jar.deposit(5)\n",
        "    assert jar.size == 5\n",
        "    jar.deposit(20)\n",
        "    assert jar.size == 5\n",
        "\n",
        "def test_withdraw():\n",
        "    jar = Jar()\n",
        "    jar.deposit(3)\n",
        "    jar.withdraw(1)\n",
        "    assert jar.size == 2\n",
        "    jar.withdraw(5)\n",
        "    assert jar.size == 2"
      ],
      "metadata": {
        "id": "f_MrPy6PtgPl"
      },
      "execution_count": 49,
      "outputs": []
    },
    {
      "cell_type": "code",
      "source": [
        "test_withdraw()"
      ],
      "metadata": {
        "colab": {
          "base_uri": "https://localhost:8080/"
        },
        "id": "rcXm6LLP6MDo",
        "outputId": "cac1a05f-57eb-4a1c-a144-105bc9c4434f"
      },
      "execution_count": 50,
      "outputs": [
        {
          "output_type": "stream",
          "name": "stdout",
          "text": [
            "Сейчас в банке 2 печенек -- забрать из нее 5 печенек не получится\n"
          ]
        }
      ]
    },
    {
      "cell_type": "markdown",
      "source": [
        "# 2. Распределение по факультетам\n",
        "\n",
        "![sorting hat](https://images.ctfassets.net/usf1vwtuqyxm/rH74qQ5ITmBB6HaTSOfFq/e2cc783b0658d19ae7446422e50c78c0/HP-F1-philosophers-stone-ron-sorting-hat-looking-concerned-web-landscape?fm=jpg&q=70&w=2560)"
      ],
      "metadata": {
        "id": "q0aLIvwTp0l1"
      }
    },
    {
      "cell_type": "markdown",
      "source": [
        "## Шляпа\n",
        "\n",
        "Нужно реализовать класс `Hat`, который отвечает за распределение студентов. У него будет всего лишь один метод -- определить заданного студента в один из факультетов."
      ],
      "metadata": {
        "id": "ZC4EUMG0ucHj"
      }
    },
    {
      "cell_type": "code",
      "source": [
        "import random"
      ],
      "metadata": {
        "id": "tBltde7Xulb-"
      },
      "execution_count": 53,
      "outputs": []
    },
    {
      "cell_type": "code",
      "source": [
        "class Hat:\n",
        "    def __init__(self):\n",
        "        self.houses = [\"Гриффиндор\", \"Когтевран\", \"Пуффендуй\", \"Слизерин\"]\n",
        "\n",
        "    def select(self):\n",
        "        house = random.choice(self.houses)\n",
        "        return house"
      ],
      "metadata": {
        "id": "t7SwCy9VqWxj"
      },
      "execution_count": 54,
      "outputs": []
    },
    {
      "cell_type": "markdown",
      "source": [
        "## Студенты\n",
        "\n",
        "Нужно реализовать класс `Student` со следующими атрибутами:\n",
        "\n",
        "* `name` -- имя студента\n",
        "* `patronus` -- патронус студента\n",
        "* `house` -- факультет студента\n",
        "* `charm` -- оберег студента\n",
        "\n",
        "И методами:\n",
        "* `__init__` инициализирует объект студента.\n",
        "* `__str__` выводит сообщение \"{name} с патронусом {patronus} и оберегом {charm} на факультете {house}\".\n",
        "* `get_student` назначает объекту заданное пользователем имя и патронус и конвертирует патронуса в оберег.\n",
        "* `set_charm` присваивает студенту оберег.\n",
        "* `assign_house` назначает студенту факультет."
      ],
      "metadata": {
        "id": "N88pnYZrwLdU"
      }
    },
    {
      "cell_type": "code",
      "source": [
        "class Student:\n",
        "    def __init__(self):\n",
        "        self.name = None\n",
        "        self.patronus = None\n",
        "        self.house = None\n",
        "        self.charm = None\n",
        "\n",
        "    def __str__(self):\n",
        "        return \"{} с патронусом {} и оберегом {} на факультете {}\".format(self.name, self.patronus, self.charm, self.house)\n",
        "\n",
        "    def get_student(self):\n",
        "        self.name = input(\"Введите имя: \")\n",
        "        self.patronus = input(\"Введите патронус: \")\n",
        "        self.set_charm()\n",
        "\n",
        "    def set_charm(self):\n",
        "        if self.patronus == \"олень\":\n",
        "            self.charm = \"🦌\"\n",
        "        elif self.patronus == \"выдра\":\n",
        "            self.charm = \"🦦\"\n",
        "        elif self.patronus == \"террьер\":\n",
        "            self.charm = \"🐶\"\n",
        "        else:\n",
        "            self.charm = \"🪄\"\n",
        "\n",
        "    def assign_house(self, hat):\n",
        "        self.house = hat.select()"
      ],
      "metadata": {
        "id": "VSCoMAziwNOB"
      },
      "execution_count": 56,
      "outputs": []
    },
    {
      "cell_type": "code",
      "source": [
        "hat = Hat()\n",
        "student = Student()\n",
        "\n",
        "student.get_student()\n",
        "print(student)\n",
        "\n",
        "student.assign_house(hat)\n",
        "print(student)"
      ],
      "metadata": {
        "id": "qJtAwpMt092U",
        "colab": {
          "base_uri": "https://localhost:8080/"
        },
        "outputId": "c272eef0-4209-413d-d12e-326ffc1fd74c"
      },
      "execution_count": 57,
      "outputs": [
        {
          "output_type": "stream",
          "name": "stdout",
          "text": [
            "Введите имя: Вася\n",
            "Введите патронус: олень\n",
            "Вася с патронусом олень и оберегом 🦌 на факультете None\n",
            "Вася с патронусом олень и оберегом 🦌 на факультете Пуффендуй\n"
          ]
        }
      ]
    },
    {
      "cell_type": "code",
      "source": [
        "students = []\n",
        "students.append(student)"
      ],
      "metadata": {
        "id": "A9Xp-dw9LJ9x"
      },
      "execution_count": null,
      "outputs": []
    }
  ]
}